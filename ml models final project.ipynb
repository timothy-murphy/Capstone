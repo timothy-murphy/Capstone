{
 "cells": [
  {
   "cell_type": "code",
   "execution_count": 7,
   "metadata": {},
   "outputs": [],
   "source": [
    "import pandas as pd\n",
    "from sklearn.neighbors import KNeighborsClassifier\n",
    "import numpy as np\n",
    "from sklearn.model_selection import train_test_split, cross_val_score\n",
    "import csv\n",
    "from csv import writer\n",
    "from csv import reader\n",
    "from sklearn.tree import DecisionTreeClassifier\n",
    "from sklearn.cluster import KMeans\n",
    "from matplotlib import pyplot as plt\n",
    "from sklearn.metrics import confusion_matrix\n",
    "from sklearn.metrics import plot_confusion_matrix"
   ]
  },
  {
   "cell_type": "code",
   "execution_count": 8,
   "metadata": {},
   "outputs": [],
   "source": [
    "pd = pd.read_csv('merged_data(1).csv')"
   ]
  },
  {
   "cell_type": "code",
   "execution_count": 9,
   "metadata": {},
   "outputs": [
    {
     "data": {
      "text/html": [
       "<div>\n",
       "<style scoped>\n",
       "    .dataframe tbody tr th:only-of-type {\n",
       "        vertical-align: middle;\n",
       "    }\n",
       "\n",
       "    .dataframe tbody tr th {\n",
       "        vertical-align: top;\n",
       "    }\n",
       "\n",
       "    .dataframe thead th {\n",
       "        text-align: right;\n",
       "    }\n",
       "</style>\n",
       "<table border=\"1\" class=\"dataframe\">\n",
       "  <thead>\n",
       "    <tr style=\"text-align: right;\">\n",
       "      <th></th>\n",
       "      <th>Neighborhood</th>\n",
       "      <th>price</th>\n",
       "      <th>Year</th>\n",
       "      <th>Month</th>\n",
       "      <th>All Crimes</th>\n",
       "      <th>Violent Crimes</th>\n",
       "      <th>Housing Crimes</th>\n",
       "      <th>Drug Crimes</th>\n",
       "    </tr>\n",
       "  </thead>\n",
       "  <tbody>\n",
       "    <tr>\n",
       "      <th>0</th>\n",
       "      <td>Allston</td>\n",
       "      <td>419685.0</td>\n",
       "      <td>2015</td>\n",
       "      <td>6</td>\n",
       "      <td>121</td>\n",
       "      <td>18</td>\n",
       "      <td>5</td>\n",
       "      <td>13</td>\n",
       "    </tr>\n",
       "    <tr>\n",
       "      <th>1</th>\n",
       "      <td>Allston</td>\n",
       "      <td>425878.0</td>\n",
       "      <td>2015</td>\n",
       "      <td>7</td>\n",
       "      <td>203</td>\n",
       "      <td>29</td>\n",
       "      <td>3</td>\n",
       "      <td>26</td>\n",
       "    </tr>\n",
       "    <tr>\n",
       "      <th>2</th>\n",
       "      <td>Allston</td>\n",
       "      <td>431874.0</td>\n",
       "      <td>2015</td>\n",
       "      <td>8</td>\n",
       "      <td>284</td>\n",
       "      <td>38</td>\n",
       "      <td>9</td>\n",
       "      <td>45</td>\n",
       "    </tr>\n",
       "    <tr>\n",
       "      <th>3</th>\n",
       "      <td>Allston</td>\n",
       "      <td>438437.0</td>\n",
       "      <td>2015</td>\n",
       "      <td>9</td>\n",
       "      <td>244</td>\n",
       "      <td>28</td>\n",
       "      <td>3</td>\n",
       "      <td>35</td>\n",
       "    </tr>\n",
       "    <tr>\n",
       "      <th>4</th>\n",
       "      <td>Allston</td>\n",
       "      <td>442258.0</td>\n",
       "      <td>2015</td>\n",
       "      <td>10</td>\n",
       "      <td>240</td>\n",
       "      <td>35</td>\n",
       "      <td>4</td>\n",
       "      <td>28</td>\n",
       "    </tr>\n",
       "  </tbody>\n",
       "</table>\n",
       "</div>"
      ],
      "text/plain": [
       "  Neighborhood     price  Year  Month   All Crimes   Violent Crimes  \\\n",
       "0      Allston  419685.0  2015      6          121               18   \n",
       "1      Allston  425878.0  2015      7          203               29   \n",
       "2      Allston  431874.0  2015      8          284               38   \n",
       "3      Allston  438437.0  2015      9          244               28   \n",
       "4      Allston  442258.0  2015     10          240               35   \n",
       "\n",
       "    Housing Crimes   Drug Crimes  \n",
       "0                5            13  \n",
       "1                3            26  \n",
       "2                9            45  \n",
       "3                3            35  \n",
       "4                4            28  "
      ]
     },
     "execution_count": 9,
     "metadata": {},
     "output_type": "execute_result"
    }
   ],
   "source": [
    "pd.head()"
   ]
  },
  {
   "cell_type": "code",
   "execution_count": null,
   "metadata": {},
   "outputs": [],
   "source": []
  },
  {
   "cell_type": "markdown",
   "metadata": {},
   "source": [
    "#pd = pd.read_csv('merged_data(1).csv')\n",
    "new_df = pd.read_csv('merged_data.csv')\n",
    "new_df.head()"
   ]
  },
  {
   "cell_type": "code",
   "execution_count": 10,
   "metadata": {},
   "outputs": [],
   "source": [
    "with open('merged_data(1).csv', 'r') as read_obj: \n",
    "    with open('new_merged_data.csv', 'w', newline='') as write_obj:\n",
    "        csv_reader = reader(read_obj)\n",
    "        csv_writer = writer(write_obj)\n",
    "        next(csv_reader)\n",
    "        for row in csv_reader:\n",
    "            if float(row[1]) > 1200000:\n",
    "                row.append('very high')\n",
    "            if float(row[1]) > 800000 and float(row[1]) <1200000:\n",
    "                row.append('high')\n",
    "            if float(row[1]) > 500000 and float(row[1]) <800000:\n",
    "                row.append('medium')\n",
    "            if float(row[1]) > 316178.0 and float(row[1]) <500000:\n",
    "                row.append('low')\n",
    "            csv_writer.writerow(row)"
   ]
  },
  {
   "cell_type": "code",
   "execution_count": 12,
   "metadata": {},
   "outputs": [
    {
     "ename": "AttributeError",
     "evalue": "'DataFrame' object has no attribute 'read_csv'",
     "output_type": "error",
     "traceback": [
      "\u001b[0;31m---------------------------------------------------------------------------\u001b[0m",
      "\u001b[0;31mAttributeError\u001b[0m                            Traceback (most recent call last)",
      "\u001b[0;32m<ipython-input-12-32a9341b7e1a>\u001b[0m in \u001b[0;36m<module>\u001b[0;34m\u001b[0m\n\u001b[1;32m      1\u001b[0m \u001b[0;31m#new_df = pd.read_csv('new_merged_data.csv')\u001b[0m\u001b[0;34m\u001b[0m\u001b[0;34m\u001b[0m\u001b[0;34m\u001b[0m\u001b[0m\n\u001b[0;32m----> 2\u001b[0;31m \u001b[0mdf\u001b[0m \u001b[0;34m=\u001b[0m \u001b[0mpd\u001b[0m\u001b[0;34m.\u001b[0m\u001b[0mread_csv\u001b[0m\u001b[0;34m(\u001b[0m\u001b[0;34m'new_merged_data.csv'\u001b[0m\u001b[0;34m)\u001b[0m\u001b[0;34m\u001b[0m\u001b[0;34m\u001b[0m\u001b[0m\n\u001b[0m\u001b[1;32m      3\u001b[0m df.columns = [\"Neighborhood\", \"prices\", \"year\", \"month\", 'total crime', 'violent crime', \n\u001b[1;32m      4\u001b[0m                   'housing crime', 'drug crime', 'price classified']\n\u001b[1;32m      5\u001b[0m \u001b[0mdf\u001b[0m\u001b[0;34m.\u001b[0m\u001b[0mhead\u001b[0m\u001b[0;34m(\u001b[0m\u001b[0;34m)\u001b[0m\u001b[0;34m\u001b[0m\u001b[0;34m\u001b[0m\u001b[0m\n",
      "\u001b[0;32m/Library/Frameworks/Python.framework/Versions/3.9/lib/python3.9/site-packages/pandas/core/generic.py\u001b[0m in \u001b[0;36m__getattr__\u001b[0;34m(self, name)\u001b[0m\n\u001b[1;32m   5137\u001b[0m             \u001b[0;32mif\u001b[0m \u001b[0mself\u001b[0m\u001b[0;34m.\u001b[0m\u001b[0m_info_axis\u001b[0m\u001b[0;34m.\u001b[0m\u001b[0m_can_hold_identifiers_and_holds_name\u001b[0m\u001b[0;34m(\u001b[0m\u001b[0mname\u001b[0m\u001b[0;34m)\u001b[0m\u001b[0;34m:\u001b[0m\u001b[0;34m\u001b[0m\u001b[0;34m\u001b[0m\u001b[0m\n\u001b[1;32m   5138\u001b[0m                 \u001b[0;32mreturn\u001b[0m \u001b[0mself\u001b[0m\u001b[0;34m[\u001b[0m\u001b[0mname\u001b[0m\u001b[0;34m]\u001b[0m\u001b[0;34m\u001b[0m\u001b[0;34m\u001b[0m\u001b[0m\n\u001b[0;32m-> 5139\u001b[0;31m             \u001b[0;32mreturn\u001b[0m \u001b[0mobject\u001b[0m\u001b[0;34m.\u001b[0m\u001b[0m__getattribute__\u001b[0m\u001b[0;34m(\u001b[0m\u001b[0mself\u001b[0m\u001b[0;34m,\u001b[0m \u001b[0mname\u001b[0m\u001b[0;34m)\u001b[0m\u001b[0;34m\u001b[0m\u001b[0;34m\u001b[0m\u001b[0m\n\u001b[0m\u001b[1;32m   5140\u001b[0m \u001b[0;34m\u001b[0m\u001b[0m\n\u001b[1;32m   5141\u001b[0m     \u001b[0;32mdef\u001b[0m \u001b[0m__setattr__\u001b[0m\u001b[0;34m(\u001b[0m\u001b[0mself\u001b[0m\u001b[0;34m,\u001b[0m \u001b[0mname\u001b[0m\u001b[0;34m:\u001b[0m \u001b[0mstr\u001b[0m\u001b[0;34m,\u001b[0m \u001b[0mvalue\u001b[0m\u001b[0;34m)\u001b[0m \u001b[0;34m->\u001b[0m \u001b[0;32mNone\u001b[0m\u001b[0;34m:\u001b[0m\u001b[0;34m\u001b[0m\u001b[0;34m\u001b[0m\u001b[0m\n",
      "\u001b[0;31mAttributeError\u001b[0m: 'DataFrame' object has no attribute 'read_csv'"
     ]
    }
   ],
   "source": [
    "#new_df = pd.read_csv('new_merged_data.csv')\n",
    "df = pd.read_csv('new_merged_data.csv')\n",
    "df.columns = [\"Neighborhood\", \"prices\", \"year\", \"month\", 'total crime', 'violent crime', \n",
    "                  'housing crime', 'drug crime', 'price classified']\n",
    "df.head()"
   ]
  },
  {
   "cell_type": "code",
   "execution_count": 3,
   "metadata": {},
   "outputs": [
    {
     "name": "stdout",
     "output_type": "stream",
     "text": [
      "['medium' 'high']\n"
     ]
    }
   ],
   "source": [
    "medium_low = new_df.loc[new_df['price classified'] != 'very high']\n",
    "medium_low = medium_low.loc[medium_low['price classified'] != 'low']\n",
    "medium_low = medium_low.dropna()\n",
    "#low_high_price1 = low_high_price.loc[low_high_price['Price Classified'] != nan]\n",
    "\n",
    "print(medium_low['price classified'].unique())\n",
    "new_df.to_csv('Counts by Type.csv')"
   ]
  },
  {
   "cell_type": "code",
   "execution_count": 33,
   "metadata": {},
   "outputs": [
    {
     "data": {
      "text/plain": [
       "1630"
      ]
     },
     "execution_count": 33,
     "metadata": {},
     "output_type": "execute_result"
    }
   ],
   "source": [
    "len(new_df)"
   ]
  },
  {
   "cell_type": "code",
   "execution_count": 4,
   "metadata": {},
   "outputs": [
    {
     "data": {
      "text/plain": [
       "<bound method DataFrame.sum of       Neighborhood  prices   year  month  total crime  violent crime  \\\n",
       "0            False   False  False  False        False          False   \n",
       "1            False   False  False  False        False          False   \n",
       "2            False   False  False  False        False          False   \n",
       "3            False   False  False  False        False          False   \n",
       "4            False   False  False  False        False          False   \n",
       "...            ...     ...    ...    ...          ...            ...   \n",
       "1625         False   False  False  False        False          False   \n",
       "1626         False   False  False  False        False          False   \n",
       "1627         False   False  False  False        False          False   \n",
       "1628         False   False  False  False        False          False   \n",
       "1629         False   False  False  False        False          False   \n",
       "\n",
       "      housing crime  drug crime  price classified  \n",
       "0             False       False             False  \n",
       "1             False       False             False  \n",
       "2             False       False             False  \n",
       "3             False       False             False  \n",
       "4             False       False             False  \n",
       "...             ...         ...               ...  \n",
       "1625          False       False             False  \n",
       "1626          False       False             False  \n",
       "1627          False       False             False  \n",
       "1628          False       False             False  \n",
       "1629          False       False             False  \n",
       "\n",
       "[1630 rows x 9 columns]>"
      ]
     },
     "execution_count": 4,
     "metadata": {},
     "output_type": "execute_result"
    }
   ],
   "source": [
    "new_df.isnull().sum()\n",
    "new_df['Neighborhood'].fillna(new_df['Neighborhood'].mode()[0], inplace = True)\n",
    "new_df['prices'].fillna(new_df['prices'].mode()[0], inplace = True)\n",
    "new_df['year'].fillna(new_df['year'].mode()[0], inplace = True)\n",
    "new_df['month'].fillna(new_df['month'].mode()[0], inplace = True)\n",
    "new_df['total crime'].fillna(new_df['total crime'].mode()[0], inplace = True)\n",
    "new_df['violent crime'].fillna(new_df['violent crime'].mode()[0], inplace = True)\n",
    "new_df['housing crime'].fillna(new_df['housing crime'].mode()[0], inplace = True)\n",
    "new_df['drug crime'].fillna(new_df['drug crime'].mode()[0], inplace = True)\n",
    "new_df['price classified'].fillna(new_df['price classified'].mode()[0], inplace = True)\n",
    "new_df.isnull().sum"
   ]
  },
  {
   "cell_type": "code",
   "execution_count": 5,
   "metadata": {},
   "outputs": [],
   "source": [
    "from sklearn.preprocessing import LabelEncoder\n",
    "lb_make = LabelEncoder()\n",
    "new_df['price classified'] = lb_make.fit_transform(new_df['price classified'])"
   ]
  },
  {
   "cell_type": "code",
   "execution_count": 6,
   "metadata": {},
   "outputs": [],
   "source": [
    "from sklearn.ensemble import ExtraTreesClassifier\n",
    "import matplotlib.pyplot as plt"
   ]
  },
  {
   "cell_type": "code",
   "execution_count": 7,
   "metadata": {},
   "outputs": [],
   "source": [
    "label = new_df['price classified']\n",
    "features = new_df[['violent crime', 'housing crime', 'drug crime', 'total crime']]"
   ]
  },
  {
   "cell_type": "markdown",
   "metadata": {},
   "source": [
    "logreg = LogisticRegression(solver='liblinear', random_state=0)\n",
    "\n",
    "logreg.fit(features, label)\n",
    "\n",
    "importances = pd.DataFrame(data={\n",
    "\n",
    "    'Attribute': features.columns,\n",
    "\n",
    "    'Importance': logreg.coef_[0]\n",
    "\n",
    "})\n",
    "\n",
    "importances = importances.sort_values(by='Importance', ascending=False)\n",
    "\n",
    "plt.bar(x=importances['Attribute'], height=importances['Importance'], color='#087E8B')\n",
    "\n",
    "plt.title('Feature importances obtained from coefficients', size=20)\n",
    "\n",
    "plt.xticks(rotation='vertical')\n",
    "\n",
    "plt.show()"
   ]
  },
  {
   "cell_type": "code",
   "execution_count": 9,
   "metadata": {},
   "outputs": [
    {
     "data": {
      "text/plain": [
       "ExtraTreesClassifier()"
      ]
     },
     "execution_count": 9,
     "metadata": {},
     "output_type": "execute_result"
    }
   ],
   "source": [
    "model = ExtraTreesClassifier()\n",
    "model.fit(features,label)"
   ]
  },
  {
   "cell_type": "code",
   "execution_count": 10,
   "metadata": {},
   "outputs": [
    {
     "name": "stdout",
     "output_type": "stream",
     "text": [
      "[0.28556134 0.15516239 0.21821263 0.34106365]\n"
     ]
    },
    {
     "data": {
      "image/png": "[encoded data removed]",
      "text/plain": [
       "<Figure size 432x288 with 1 Axes>"
      ]
     },
     "metadata": {
      "needs_background": "light"
     },
     "output_type": "display_data"
    }
   ],
   "source": [
    "print(model.feature_importances_) #use inbuilt class feature_importances of tree based classifiers\n",
    "#plot graph of feature importances for better visualization\n",
    "feat_importances = pd.Series(model.feature_importances_, index=features.columns)\n",
    "feat_importances.nlargest(4).plot(kind='barh')\n",
    "plt.show()"
   ]
  },
  {
   "cell_type": "code",
   "execution_count": 11,
   "metadata": {},
   "outputs": [
    {
     "data": {
      "image/png": "[encoded data removed]",
      "text/plain": [
       "<Figure size 1152x576 with 1 Axes>"
      ]
     },
     "metadata": {
      "needs_background": "light"
     },
     "output_type": "display_data"
    }
   ],
   "source": [
    "from sklearn.cluster import KMeans\n",
    "distortions = []\n",
    "K = range(1,10)\n",
    "for k in K:\n",
    "    kmeanModel = KMeans(n_clusters=k)\n",
    "    kmeanModel.fit(features)\n",
    "    distortions.append(kmeanModel.inertia_)\n",
    "plt.figure(figsize=(16,8))\n",
    "plt.plot(K, distortions, 'bx-')\n",
    "plt.xlabel('k')\n",
    "plt.ylabel('Distortion')\n",
    "plt.title('The Elbow Method showing the optimal k')\n",
    "plt.show()"
   ]
  },
  {
   "cell_type": "code",
   "execution_count": 12,
   "metadata": {},
   "outputs": [],
   "source": [
    "X_train, X_test, y_train, y_test = train_test_split(features, label, test_size=0.2)"
   ]
  },
  {
   "cell_type": "code",
   "execution_count": 13,
   "metadata": {},
   "outputs": [],
   "source": [
    "X_train2, X_test2, y_train2, y_test2 = train_test_split(features, label, test_size=0.2)"
   ]
  },
  {
   "cell_type": "code",
   "execution_count": 1,
   "metadata": {},
   "outputs": [
    {
     "ename": "NameError",
     "evalue": "name 'KNeighborsClassifier' is not defined",
     "output_type": "error",
     "traceback": [
      "\u001b[0;31m---------------------------------------------------------------------------\u001b[0m",
      "\u001b[0;31mNameError\u001b[0m                                 Traceback (most recent call last)",
      "\u001b[0;32m<ipython-input-1-6f7f75856b90>\u001b[0m in \u001b[0;36m<module>\u001b[0;34m\u001b[0m\n\u001b[0;32m----> 1\u001b[0;31m \u001b[0mknn\u001b[0m \u001b[0;34m=\u001b[0m \u001b[0mKNeighborsClassifier\u001b[0m\u001b[0;34m(\u001b[0m\u001b[0mn_neighbors\u001b[0m\u001b[0;34m=\u001b[0m\u001b[0;36m4\u001b[0m\u001b[0;34m)\u001b[0m\u001b[0;34m\u001b[0m\u001b[0;34m\u001b[0m\u001b[0m\n\u001b[0m\u001b[1;32m      2\u001b[0m \u001b[0mmodel\u001b[0m \u001b[0;34m=\u001b[0m \u001b[0mknn\u001b[0m\u001b[0;34m.\u001b[0m\u001b[0mfit\u001b[0m\u001b[0;34m(\u001b[0m\u001b[0mX_train\u001b[0m\u001b[0;34m,\u001b[0m \u001b[0mnp\u001b[0m\u001b[0;34m.\u001b[0m\u001b[0mravel\u001b[0m\u001b[0;34m(\u001b[0m\u001b[0my_train\u001b[0m\u001b[0;34m)\u001b[0m\u001b[0;34m)\u001b[0m\u001b[0;34m\u001b[0m\u001b[0;34m\u001b[0m\u001b[0m\n\u001b[1;32m      3\u001b[0m \u001b[0my_pred\u001b[0m \u001b[0;34m=\u001b[0m \u001b[0mmodel\u001b[0m\u001b[0;34m.\u001b[0m\u001b[0mpredict\u001b[0m\u001b[0;34m(\u001b[0m\u001b[0mX_test2\u001b[0m\u001b[0;34m)\u001b[0m\u001b[0;34m\u001b[0m\u001b[0;34m\u001b[0m\u001b[0m\n\u001b[1;32m      4\u001b[0m \u001b[0maccuracy\u001b[0m \u001b[0;34m=\u001b[0m \u001b[0mmodel\u001b[0m\u001b[0;34m.\u001b[0m\u001b[0mscore\u001b[0m\u001b[0;34m(\u001b[0m\u001b[0mX_test\u001b[0m\u001b[0;34m,\u001b[0m \u001b[0my_test\u001b[0m\u001b[0;34m)\u001b[0m\u001b[0;34m\u001b[0m\u001b[0;34m\u001b[0m\u001b[0m\n\u001b[1;32m      5\u001b[0m \u001b[0mprint\u001b[0m\u001b[0;34m(\u001b[0m\u001b[0maccuracy\u001b[0m\u001b[0;34m)\u001b[0m\u001b[0;34m\u001b[0m\u001b[0;34m\u001b[0m\u001b[0m\n",
      "\u001b[0;31mNameError\u001b[0m: name 'KNeighborsClassifier' is not defined"
     ]
    }
   ],
   "source": [
    "knn = KNeighborsClassifier(n_neighbors=4)\n",
    "model = knn.fit(X_train, np.ravel(y_train))\n",
    "y_pred = model.predict(X_test2)\n",
    "accuracy = model.score(X_test, y_test)\n",
    "print(accuracy)"
   ]
  },
  {
   "cell_type": "code",
   "execution_count": 15,
   "metadata": {},
   "outputs": [
    {
     "data": {
      "text/plain": [
       "array([[34, 21, 32,  0],\n",
       "       [27,  9, 23,  0],\n",
       "       [58, 30, 76,  1],\n",
       "       [ 6,  2,  6,  1]])"
      ]
     },
     "execution_count": 15,
     "metadata": {},
     "output_type": "execute_result"
    }
   ],
   "source": [
    "confusion_matrix(y_test, y_pred)"
   ]
  },
  {
   "cell_type": "code",
   "execution_count": 16,
   "metadata": {},
   "outputs": [
    {
     "data": {
      "image/png": "[encoded data removed]",
      "text/plain": [
       "<Figure size 432x288 with 2 Axes>"
      ]
     },
     "metadata": {
      "needs_background": "light"
     },
     "output_type": "display_data"
    }
   ],
   "source": [
    "matrix = plot_confusion_matrix(model, X_test, y_test)\n",
    "matrix.ax_.set_title('Confusion Matrix', color = 'white')\n",
    "plt.xlabel('Predicted Label', color = 'white')\n",
    "plt.ylabel('True Label', color = 'white')\n",
    "plt.gcf().axes[0].tick_params(colors = 'black')\n",
    "plt.gcf().axes[1].tick_params(colors = 'black')"
   ]
  },
  {
   "cell_type": "code",
   "execution_count": 17,
   "metadata": {},
   "outputs": [
    {
     "name": "stdout",
     "output_type": "stream",
     "text": [
      "              precision    recall  f1-score   support\n",
      "\n",
      "           0       0.27      0.39      0.32        87\n",
      "           1       0.15      0.15      0.15        59\n",
      "           2       0.55      0.46      0.50       165\n",
      "           3       0.50      0.07      0.12        15\n",
      "\n",
      "    accuracy                           0.37       326\n",
      "   macro avg       0.37      0.27      0.27       326\n",
      "weighted avg       0.40      0.37      0.37       326\n",
      "\n"
     ]
    }
   ],
   "source": [
    "from sklearn.metrics import classification_report\n",
    "print(classification_report(y_test, y_pred))"
   ]
  },
  {
   "cell_type": "code",
   "execution_count": 34,
   "metadata": {},
   "outputs": [
    {
     "name": "stdout",
     "output_type": "stream",
     "text": [
      "0.6441717791411042\n"
     ]
    }
   ],
   "source": [
    "clf = DecisionTreeClassifier(criterion=\"gini\", max_depth=6)\n",
    "clf = clf.fit(X_train,y_train)\n",
    "y_pred = clf.predict(X_test)\n",
    "accuracy = clf.score(X_test, y_test)\n",
    "print(accuracy)"
   ]
  },
  {
   "cell_type": "code",
   "execution_count": 35,
   "metadata": {},
   "outputs": [
    {
     "name": "stdout",
     "output_type": "stream",
     "text": [
      "              precision    recall  f1-score   support\n",
      "\n",
      "         0.0       0.57      0.80      0.67        87\n",
      "         1.0       0.68      0.51      0.58        59\n",
      "         2.0       0.69      0.67      0.68       165\n",
      "         3.0       0.00      0.00      0.00        15\n",
      "\n",
      "    accuracy                           0.64       326\n",
      "   macro avg       0.49      0.49      0.48       326\n",
      "weighted avg       0.63      0.64      0.63       326\n",
      "\n"
     ]
    },
    {
     "name": "stderr",
     "output_type": "stream",
     "text": [
      "/Library/Frameworks/Python.framework/Versions/3.9/lib/python3.9/site-packages/sklearn/metrics/_classification.py:1248: UndefinedMetricWarning: Precision and F-score are ill-defined and being set to 0.0 in labels with no predicted samples. Use `zero_division` parameter to control this behavior.\n",
      "  _warn_prf(average, modifier, msg_start, len(result))\n",
      "/Library/Frameworks/Python.framework/Versions/3.9/lib/python3.9/site-packages/sklearn/metrics/_classification.py:1248: UndefinedMetricWarning: Precision and F-score are ill-defined and being set to 0.0 in labels with no predicted samples. Use `zero_division` parameter to control this behavior.\n",
      "  _warn_prf(average, modifier, msg_start, len(result))\n",
      "/Library/Frameworks/Python.framework/Versions/3.9/lib/python3.9/site-packages/sklearn/metrics/_classification.py:1248: UndefinedMetricWarning: Precision and F-score are ill-defined and being set to 0.0 in labels with no predicted samples. Use `zero_division` parameter to control this behavior.\n",
      "  _warn_prf(average, modifier, msg_start, len(result))\n"
     ]
    }
   ],
   "source": [
    "print(classification_report(y_test, y_pred))"
   ]
  },
  {
   "cell_type": "code",
   "execution_count": 37,
   "metadata": {},
   "outputs": [
    {
     "name": "stdout",
     "output_type": "stream",
     "text": [
      "[0.53451734 0.10414689 0.14212371 0.21921207]\n"
     ]
    },
    {
     "data": {
      "image/png": "[encoded data removed]",
      "text/plain": [
       "<Figure size 432x288 with 1 Axes>"
      ]
     },
     "metadata": {
      "needs_background": "light"
     },
     "output_type": "display_data"
    }
   ],
   "source": [
    "print(clf.feature_importances_) #use inbuilt class feature_importances of tree based classifiers\n",
    "#plot graph of feature importances for better visualization\n",
    "feat_importances = pd.Series(clf.feature_importances_, index=features.columns)\n",
    "feat_importances.nlargest(4).plot(kind='barh')\n",
    "plt.show()"
   ]
  },
  {
   "cell_type": "markdown",
   "metadata": {},
   "source": [
    "Random Forest"
   ]
  },
  {
   "cell_type": "code",
   "execution_count": 20,
   "metadata": {},
   "outputs": [
    {
     "name": "stdout",
     "output_type": "stream",
     "text": [
      "0.7239263803680982\n"
     ]
    }
   ],
   "source": [
    "from numpy import mean\n",
    "from numpy import std\n",
    "from sklearn.datasets import make_classification\n",
    "from sklearn.model_selection import cross_val_score\n",
    "from sklearn.model_selection import RepeatedStratifiedKFold\n",
    "from sklearn.ensemble import RandomForestClassifier\n",
    "\n",
    "forest_model = RandomForestClassifier()\n",
    "forest_model.fit(X_train, y_train)\n",
    "Y_pred_rf = forest_model.predict(X_test)\n",
    "accuracy = forest_model.score(X_test, y_test)\n",
    "print(accuracy)"
   ]
  },
  {
   "cell_type": "code",
   "execution_count": 38,
   "metadata": {},
   "outputs": [
    {
     "name": "stdout",
     "output_type": "stream",
     "text": [
      "[0.2994671  0.14170381 0.20234008 0.356489  ]\n"
     ]
    },
    {
     "data": {
      "image/png": "[encoded data removed]",
      "text/plain": [
       "<Figure size 432x288 with 1 Axes>"
      ]
     },
     "metadata": {
      "needs_background": "light"
     },
     "output_type": "display_data"
    }
   ],
   "source": [
    "print(forest_model.feature_importances_) #use inbuilt class feature_importances of tree based classifiers\n",
    "#plot graph of feature importances for better visualization\n",
    "feat_importances = pd.Series(forest_model.feature_importances_, index=features.columns)\n",
    "feat_importances.nlargest(4).plot(kind='barh')\n",
    "plt.show()"
   ]
  },
  {
   "cell_type": "code",
   "execution_count": 21,
   "metadata": {},
   "outputs": [
    {
     "data": {
      "text/plain": [
       "array([[ 65,   4,  17,   1],\n",
       "       [  2,  37,  19,   1],\n",
       "       [ 22,  10, 132,   1],\n",
       "       [  4,   1,   8,   2]])"
      ]
     },
     "execution_count": 21,
     "metadata": {},
     "output_type": "execute_result"
    }
   ],
   "source": [
    "confusion_matrix(y_test, Y_pred_rf)"
   ]
  },
  {
   "cell_type": "code",
   "execution_count": 22,
   "metadata": {},
   "outputs": [
    {
     "data": {
      "image/png": "[encoded data removed]",
      "text/plain": [
       "<Figure size 432x288 with 2 Axes>"
      ]
     },
     "metadata": {
      "needs_background": "light"
     },
     "output_type": "display_data"
    }
   ],
   "source": [
    "matrix = plot_confusion_matrix(forest_model, X_test, y_test)\n",
    "matrix.ax_.set_title('Confusion Matrix', color = 'white')\n",
    "plt.xlabel('Predicted Label', color = 'white')\n",
    "plt.ylabel('True Label', color = 'white')\n",
    "plt.gcf().axes[0].tick_params(colors = 'black')\n",
    "plt.gcf().axes[1].tick_params(colors = 'black')"
   ]
  },
  {
   "cell_type": "code",
   "execution_count": 23,
   "metadata": {},
   "outputs": [
    {
     "name": "stdout",
     "output_type": "stream",
     "text": [
      "              precision    recall  f1-score   support\n",
      "\n",
      "           0       0.70      0.75      0.72        87\n",
      "           1       0.71      0.63      0.67        59\n",
      "           2       0.75      0.80      0.77       165\n",
      "           3       0.40      0.13      0.20        15\n",
      "\n",
      "    accuracy                           0.72       326\n",
      "   macro avg       0.64      0.58      0.59       326\n",
      "weighted avg       0.71      0.72      0.71       326\n",
      "\n"
     ]
    }
   ],
   "source": [
    "print(classification_report(y_test, Y_pred_rf))"
   ]
  },
  {
   "cell_type": "markdown",
   "metadata": {},
   "source": [
    "Neural network"
   ]
  },
  {
   "cell_type": "code",
   "execution_count": 24,
   "metadata": {},
   "outputs": [],
   "source": [
    "from keras.models import Sequential \n",
    "from keras.layers import Dense\n",
    "import tensorflow as tf\n",
    "tf.convert_to_tensor(y_train, np.float)\n",
    "tf.convert_to_tensor(X_train, np.float)\n",
    "X_train=np.asarray(X_train).astype(np.float32)\n",
    "X_test=np.asarray(X_test).astype(np.float32)\n",
    "y_train=np.asarray(y_train).astype(np.float32)\n",
    "y_test=np.asarray(y_test).astype(np.float32)"
   ]
  },
  {
   "cell_type": "code",
   "execution_count": 25,
   "metadata": {},
   "outputs": [],
   "source": [
    "from keras.models import Sequential \n",
    "from keras.layers import Dense\n",
    "model = Sequential()\n",
    "model.add(Dense(4, input_dim=4, activation='relu'))\n",
    "model.add(Dense(5, activation='relu'))\n",
    "model.add(Dense(1, activation='softmax'))"
   ]
  },
  {
   "cell_type": "code",
   "execution_count": 26,
   "metadata": {},
   "outputs": [],
   "source": [
    "model.compile(loss='categorical_crossentropy', optimizer='nadam', metrics=['accuracy'])"
   ]
  },
  {
   "cell_type": "code",
   "execution_count": 27,
   "metadata": {},
   "outputs": [
    {
     "name": "stdout",
     "output_type": "stream",
     "text": [
      "Epoch 1/300\n",
      "44/44 [==============================] - 11s 886us/step - loss: 0.0000e+00 - accuracy: 0.2006\n",
      "Epoch 2/300\n",
      "44/44 [==============================] - 0s 946us/step - loss: 0.0000e+00 - accuracy: 0.2112\n",
      "Epoch 3/300\n",
      "44/44 [==============================] - 0s 802us/step - loss: 0.0000e+00 - accuracy: 0.2126\n",
      "Epoch 4/300\n",
      "44/44 [==============================] - 0s 717us/step - loss: 0.0000e+00 - accuracy: 0.2059\n",
      "Epoch 5/300\n",
      "44/44 [==============================] - 0s 736us/step - loss: 0.0000e+00 - accuracy: 0.1960\n",
      "Epoch 6/300\n",
      "44/44 [==============================] - 0s 720us/step - loss: 0.0000e+00 - accuracy: 0.2047\n",
      "Epoch 7/300\n",
      "44/44 [==============================] - 0s 721us/step - loss: 0.0000e+00 - accuracy: 0.2159\n",
      "Epoch 8/300\n",
      "44/44 [==============================] - 0s 716us/step - loss: 0.0000e+00 - accuracy: 0.2023\n",
      "Epoch 9/300\n",
      "44/44 [==============================] - 0s 709us/step - loss: 0.0000e+00 - accuracy: 0.2016\n",
      "Epoch 10/300\n",
      "44/44 [==============================] - 0s 709us/step - loss: 0.0000e+00 - accuracy: 0.2180\n",
      "Epoch 11/300\n",
      "44/44 [==============================] - 0s 733us/step - loss: 0.0000e+00 - accuracy: 0.1961\n",
      "Epoch 12/300\n",
      "44/44 [==============================] - 0s 741us/step - loss: 0.0000e+00 - accuracy: 0.1968\n",
      "Epoch 13/300\n",
      "44/44 [==============================] - 0s 725us/step - loss: 0.0000e+00 - accuracy: 0.2078\n",
      "Epoch 14/300\n",
      "44/44 [==============================] - 0s 757us/step - loss: 0.0000e+00 - accuracy: 0.1841\n",
      "Epoch 15/300\n",
      "44/44 [==============================] - 0s 733us/step - loss: 0.0000e+00 - accuracy: 0.1939\n",
      "Epoch 16/300\n",
      "44/44 [==============================] - 0s 696us/step - loss: 0.0000e+00 - accuracy: 0.2342\n",
      "Epoch 17/300\n",
      "44/44 [==============================] - 0s 727us/step - loss: 0.0000e+00 - accuracy: 0.1961\n",
      "Epoch 18/300\n",
      "44/44 [==============================] - 0s 736us/step - loss: 0.0000e+00 - accuracy: 0.2025\n",
      "Epoch 19/300\n",
      "44/44 [==============================] - 0s 730us/step - loss: 0.0000e+00 - accuracy: 0.2083\n",
      "Epoch 20/300\n",
      "44/44 [==============================] - 0s 711us/step - loss: 0.0000e+00 - accuracy: 0.1983\n",
      "Epoch 21/300\n",
      "44/44 [==============================] - 0s 770us/step - loss: 0.0000e+00 - accuracy: 0.2054\n",
      "Epoch 22/300\n",
      "44/44 [==============================] - 0s 743us/step - loss: 0.0000e+00 - accuracy: 0.2174\n",
      "Epoch 23/300\n",
      "44/44 [==============================] - 0s 733us/step - loss: 0.0000e+00 - accuracy: 0.1979\n",
      "Epoch 24/300\n",
      "44/44 [==============================] - 0s 730us/step - loss: 0.0000e+00 - accuracy: 0.2045\n",
      "Epoch 25/300\n",
      "44/44 [==============================] - 0s 731us/step - loss: 0.0000e+00 - accuracy: 0.1953\n",
      "Epoch 26/300\n",
      "44/44 [==============================] - 0s 724us/step - loss: 0.0000e+00 - accuracy: 0.2231\n",
      "Epoch 27/300\n",
      "44/44 [==============================] - 0s 737us/step - loss: 0.0000e+00 - accuracy: 0.2053\n",
      "Epoch 28/300\n",
      "44/44 [==============================] - 0s 732us/step - loss: 0.0000e+00 - accuracy: 0.2171\n",
      "Epoch 29/300\n",
      "44/44 [==============================] - 0s 734us/step - loss: 0.0000e+00 - accuracy: 0.2067\n",
      "Epoch 30/300\n",
      "44/44 [==============================] - 0s 756us/step - loss: 0.0000e+00 - accuracy: 0.2309\n",
      "Epoch 31/300\n",
      "44/44 [==============================] - 0s 756us/step - loss: 0.0000e+00 - accuracy: 0.2165\n",
      "Epoch 32/300\n",
      "44/44 [==============================] - 0s 750us/step - loss: 0.0000e+00 - accuracy: 0.1880\n",
      "Epoch 33/300\n",
      "44/44 [==============================] - 0s 746us/step - loss: 0.0000e+00 - accuracy: 0.2110\n",
      "Epoch 34/300\n",
      "44/44 [==============================] - 0s 736us/step - loss: 0.0000e+00 - accuracy: 0.1918\n",
      "Epoch 35/300\n",
      "44/44 [==============================] - 0s 750us/step - loss: 0.0000e+00 - accuracy: 0.1871\n",
      "Epoch 36/300\n",
      "44/44 [==============================] - 0s 758us/step - loss: 0.0000e+00 - accuracy: 0.2109\n",
      "Epoch 37/300\n",
      "44/44 [==============================] - 0s 739us/step - loss: 0.0000e+00 - accuracy: 0.2024\n",
      "Epoch 38/300\n",
      "44/44 [==============================] - 0s 729us/step - loss: 0.0000e+00 - accuracy: 0.1980\n",
      "Epoch 39/300\n",
      "44/44 [==============================] - 0s 738us/step - loss: 0.0000e+00 - accuracy: 0.2122\n",
      "Epoch 40/300\n",
      "44/44 [==============================] - 0s 741us/step - loss: 0.0000e+00 - accuracy: 0.1960\n",
      "Epoch 41/300\n",
      "44/44 [==============================] - 0s 707us/step - loss: 0.0000e+00 - accuracy: 0.2108\n",
      "Epoch 42/300\n",
      "44/44 [==============================] - 0s 739us/step - loss: 0.0000e+00 - accuracy: 0.1927\n",
      "Epoch 43/300\n",
      "44/44 [==============================] - 0s 710us/step - loss: 0.0000e+00 - accuracy: 0.1963\n",
      "Epoch 44/300\n",
      "44/44 [==============================] - 0s 735us/step - loss: 0.0000e+00 - accuracy: 0.2149\n",
      "Epoch 45/300\n",
      "44/44 [==============================] - 0s 739us/step - loss: 0.0000e+00 - accuracy: 0.2176\n",
      "Epoch 46/300\n",
      "44/44 [==============================] - 0s 732us/step - loss: 0.0000e+00 - accuracy: 0.1846\n",
      "Epoch 47/300\n",
      "44/44 [==============================] - 0s 745us/step - loss: 0.0000e+00 - accuracy: 0.2011\n",
      "Epoch 48/300\n",
      "44/44 [==============================] - 0s 735us/step - loss: 0.0000e+00 - accuracy: 0.2222\n",
      "Epoch 49/300\n",
      "44/44 [==============================] - 0s 742us/step - loss: 0.0000e+00 - accuracy: 0.2071\n",
      "Epoch 50/300\n",
      "44/44 [==============================] - 0s 731us/step - loss: 0.0000e+00 - accuracy: 0.2000\n",
      "Epoch 51/300\n",
      "44/44 [==============================] - 0s 738us/step - loss: 0.0000e+00 - accuracy: 0.1996\n",
      "Epoch 52/300\n",
      "44/44 [==============================] - 0s 720us/step - loss: 0.0000e+00 - accuracy: 0.1965\n",
      "Epoch 53/300\n",
      "44/44 [==============================] - 0s 753us/step - loss: 0.0000e+00 - accuracy: 0.1977\n",
      "Epoch 54/300\n",
      "44/44 [==============================] - 0s 688us/step - loss: 0.0000e+00 - accuracy: 0.2197\n",
      "Epoch 55/300\n",
      "44/44 [==============================] - 0s 664us/step - loss: 0.0000e+00 - accuracy: 0.2031\n",
      "Epoch 56/300\n",
      "44/44 [==============================] - 0s 667us/step - loss: 0.0000e+00 - accuracy: 0.2037\n",
      "Epoch 57/300\n",
      "44/44 [==============================] - 0s 655us/step - loss: 0.0000e+00 - accuracy: 0.2242\n",
      "Epoch 58/300\n",
      "44/44 [==============================] - 0s 650us/step - loss: 0.0000e+00 - accuracy: 0.2100\n",
      "Epoch 59/300\n",
      "44/44 [==============================] - 0s 681us/step - loss: 0.0000e+00 - accuracy: 0.1991\n",
      "Epoch 60/300\n",
      "44/44 [==============================] - 0s 690us/step - loss: 0.0000e+00 - accuracy: 0.1980\n",
      "Epoch 61/300\n",
      "44/44 [==============================] - 0s 668us/step - loss: 0.0000e+00 - accuracy: 0.1994\n",
      "Epoch 62/300\n",
      "44/44 [==============================] - 0s 649us/step - loss: 0.0000e+00 - accuracy: 0.2115\n",
      "Epoch 63/300\n",
      "44/44 [==============================] - 0s 681us/step - loss: 0.0000e+00 - accuracy: 0.2021\n",
      "Epoch 64/300\n",
      "44/44 [==============================] - 0s 680us/step - loss: 0.0000e+00 - accuracy: 0.2225\n",
      "Epoch 65/300\n",
      "44/44 [==============================] - 0s 684us/step - loss: 0.0000e+00 - accuracy: 0.2189\n",
      "Epoch 66/300\n",
      "44/44 [==============================] - 0s 676us/step - loss: 0.0000e+00 - accuracy: 0.2101\n",
      "Epoch 67/300\n",
      "44/44 [==============================] - 0s 703us/step - loss: 0.0000e+00 - accuracy: 0.2027\n",
      "Epoch 68/300\n",
      "44/44 [==============================] - 0s 673us/step - loss: 0.0000e+00 - accuracy: 0.1971\n",
      "Epoch 69/300\n",
      "44/44 [==============================] - 0s 655us/step - loss: 0.0000e+00 - accuracy: 0.1854\n",
      "Epoch 70/300\n",
      "44/44 [==============================] - 0s 676us/step - loss: 0.0000e+00 - accuracy: 0.1921\n",
      "Epoch 71/300\n",
      "44/44 [==============================] - 0s 673us/step - loss: 0.0000e+00 - accuracy: 0.2000\n",
      "Epoch 72/300\n",
      "44/44 [==============================] - 0s 691us/step - loss: 0.0000e+00 - accuracy: 0.2098\n",
      "Epoch 73/300\n",
      "44/44 [==============================] - 0s 677us/step - loss: 0.0000e+00 - accuracy: 0.2225\n",
      "Epoch 74/300\n",
      "44/44 [==============================] - 0s 652us/step - loss: 0.0000e+00 - accuracy: 0.2119\n",
      "Epoch 75/300\n",
      "44/44 [==============================] - 0s 678us/step - loss: 0.0000e+00 - accuracy: 0.2091\n",
      "Epoch 76/300\n",
      "44/44 [==============================] - 0s 665us/step - loss: 0.0000e+00 - accuracy: 0.2255\n",
      "Epoch 77/300\n",
      "44/44 [==============================] - 0s 661us/step - loss: 0.0000e+00 - accuracy: 0.2165\n",
      "Epoch 78/300\n",
      "44/44 [==============================] - 0s 656us/step - loss: 0.0000e+00 - accuracy: 0.2031\n",
      "Epoch 79/300\n",
      "44/44 [==============================] - 0s 674us/step - loss: 0.0000e+00 - accuracy: 0.2046\n",
      "Epoch 80/300\n",
      "44/44 [==============================] - 0s 672us/step - loss: 0.0000e+00 - accuracy: 0.1933\n",
      "Epoch 81/300\n",
      "44/44 [==============================] - 0s 673us/step - loss: 0.0000e+00 - accuracy: 0.1953\n",
      "Epoch 82/300\n",
      "44/44 [==============================] - 0s 673us/step - loss: 0.0000e+00 - accuracy: 0.2156\n",
      "Epoch 83/300\n",
      "44/44 [==============================] - 0s 673us/step - loss: 0.0000e+00 - accuracy: 0.2106\n",
      "Epoch 84/300\n",
      "44/44 [==============================] - 0s 664us/step - loss: 0.0000e+00 - accuracy: 0.1986\n",
      "Epoch 85/300\n",
      "44/44 [==============================] - 0s 673us/step - loss: 0.0000e+00 - accuracy: 0.2137\n",
      "Epoch 86/300\n",
      "44/44 [==============================] - 0s 673us/step - loss: 0.0000e+00 - accuracy: 0.2138\n",
      "Epoch 87/300\n",
      "44/44 [==============================] - 0s 670us/step - loss: 0.0000e+00 - accuracy: 0.2120\n",
      "Epoch 88/300\n",
      "44/44 [==============================] - 0s 674us/step - loss: 0.0000e+00 - accuracy: 0.2072\n",
      "Epoch 89/300\n",
      "44/44 [==============================] - 0s 678us/step - loss: 0.0000e+00 - accuracy: 0.2084\n",
      "Epoch 90/300\n",
      "44/44 [==============================] - 0s 653us/step - loss: 0.0000e+00 - accuracy: 0.1923\n",
      "Epoch 91/300\n",
      "44/44 [==============================] - 0s 669us/step - loss: 0.0000e+00 - accuracy: 0.2262\n",
      "Epoch 92/300\n",
      "44/44 [==============================] - 0s 672us/step - loss: 0.0000e+00 - accuracy: 0.1957\n",
      "Epoch 93/300\n",
      "44/44 [==============================] - 0s 676us/step - loss: 0.0000e+00 - accuracy: 0.2005\n",
      "Epoch 94/300\n",
      "44/44 [==============================] - 0s 665us/step - loss: 0.0000e+00 - accuracy: 0.2178\n",
      "Epoch 95/300\n",
      "44/44 [==============================] - 0s 674us/step - loss: 0.0000e+00 - accuracy: 0.2065\n",
      "Epoch 96/300\n",
      "44/44 [==============================] - 0s 681us/step - loss: 0.0000e+00 - accuracy: 0.2029\n",
      "Epoch 97/300\n",
      "44/44 [==============================] - 0s 864us/step - loss: 0.0000e+00 - accuracy: 0.1912\n",
      "Epoch 98/300\n",
      "44/44 [==============================] - 0s 650us/step - loss: 0.0000e+00 - accuracy: 0.2050\n",
      "Epoch 99/300\n",
      "44/44 [==============================] - 0s 740us/step - loss: 0.0000e+00 - accuracy: 0.2148\n",
      "Epoch 100/300\n",
      "44/44 [==============================] - 0s 693us/step - loss: 0.0000e+00 - accuracy: 0.2147\n",
      "Epoch 101/300\n",
      "44/44 [==============================] - 0s 685us/step - loss: 0.0000e+00 - accuracy: 0.1975\n",
      "Epoch 102/300\n",
      "44/44 [==============================] - 0s 675us/step - loss: 0.0000e+00 - accuracy: 0.2193\n",
      "Epoch 103/300\n",
      "44/44 [==============================] - 0s 664us/step - loss: 0.0000e+00 - accuracy: 0.1952\n",
      "Epoch 104/300\n",
      "44/44 [==============================] - 0s 649us/step - loss: 0.0000e+00 - accuracy: 0.2102\n",
      "Epoch 105/300\n",
      "44/44 [==============================] - 0s 686us/step - loss: 0.0000e+00 - accuracy: 0.2005\n",
      "Epoch 106/300\n",
      "44/44 [==============================] - 0s 652us/step - loss: 0.0000e+00 - accuracy: 0.2041\n",
      "Epoch 107/300\n",
      "44/44 [==============================] - 0s 671us/step - loss: 0.0000e+00 - accuracy: 0.1931\n",
      "Epoch 108/300\n",
      "44/44 [==============================] - 0s 678us/step - loss: 0.0000e+00 - accuracy: 0.2082\n",
      "Epoch 109/300\n",
      "44/44 [==============================] - 0s 654us/step - loss: 0.0000e+00 - accuracy: 0.2094\n",
      "Epoch 110/300\n",
      "44/44 [==============================] - 0s 675us/step - loss: 0.0000e+00 - accuracy: 0.2010\n",
      "Epoch 111/300\n",
      "44/44 [==============================] - 0s 727us/step - loss: 0.0000e+00 - accuracy: 0.1905\n",
      "Epoch 112/300\n",
      "44/44 [==============================] - 0s 670us/step - loss: 0.0000e+00 - accuracy: 0.1996\n",
      "Epoch 113/300\n",
      "44/44 [==============================] - 0s 666us/step - loss: 0.0000e+00 - accuracy: 0.2261\n",
      "Epoch 114/300\n",
      "44/44 [==============================] - 0s 675us/step - loss: 0.0000e+00 - accuracy: 0.2095\n",
      "Epoch 115/300\n",
      "44/44 [==============================] - 0s 683us/step - loss: 0.0000e+00 - accuracy: 0.2105\n",
      "Epoch 116/300\n",
      "44/44 [==============================] - 0s 676us/step - loss: 0.0000e+00 - accuracy: 0.2056\n",
      "Epoch 117/300\n",
      "44/44 [==============================] - 0s 678us/step - loss: 0.0000e+00 - accuracy: 0.2039\n",
      "Epoch 118/300\n",
      "44/44 [==============================] - 0s 661us/step - loss: 0.0000e+00 - accuracy: 0.2090\n",
      "Epoch 119/300\n",
      "44/44 [==============================] - 0s 682us/step - loss: 0.0000e+00 - accuracy: 0.2150\n",
      "Epoch 120/300\n",
      "44/44 [==============================] - 0s 670us/step - loss: 0.0000e+00 - accuracy: 0.2030\n",
      "Epoch 121/300\n",
      "44/44 [==============================] - 0s 668us/step - loss: 0.0000e+00 - accuracy: 0.1983\n",
      "Epoch 122/300\n",
      "44/44 [==============================] - 0s 658us/step - loss: 0.0000e+00 - accuracy: 0.1881\n",
      "Epoch 123/300\n",
      "44/44 [==============================] - 0s 674us/step - loss: 0.0000e+00 - accuracy: 0.2081\n",
      "Epoch 124/300\n",
      "44/44 [==============================] - 0s 653us/step - loss: 0.0000e+00 - accuracy: 0.2179\n",
      "Epoch 125/300\n",
      "44/44 [==============================] - 0s 657us/step - loss: 0.0000e+00 - accuracy: 0.2000\n",
      "Epoch 126/300\n",
      "44/44 [==============================] - 0s 673us/step - loss: 0.0000e+00 - accuracy: 0.2121\n",
      "Epoch 127/300\n",
      "44/44 [==============================] - 0s 669us/step - loss: 0.0000e+00 - accuracy: 0.2216\n",
      "Epoch 128/300\n",
      "44/44 [==============================] - 0s 666us/step - loss: 0.0000e+00 - accuracy: 0.2058\n",
      "Epoch 129/300\n",
      "44/44 [==============================] - 0s 682us/step - loss: 0.0000e+00 - accuracy: 0.2109\n",
      "Epoch 130/300\n",
      "44/44 [==============================] - 0s 676us/step - loss: 0.0000e+00 - accuracy: 0.2216\n",
      "Epoch 131/300\n",
      "44/44 [==============================] - 0s 659us/step - loss: 0.0000e+00 - accuracy: 0.2091\n",
      "Epoch 132/300\n",
      "44/44 [==============================] - 0s 696us/step - loss: 0.0000e+00 - accuracy: 0.2149\n",
      "Epoch 133/300\n",
      "44/44 [==============================] - 0s 649us/step - loss: 0.0000e+00 - accuracy: 0.2242\n",
      "Epoch 134/300\n",
      "44/44 [==============================] - 0s 672us/step - loss: 0.0000e+00 - accuracy: 0.2006\n",
      "Epoch 135/300\n",
      "44/44 [==============================] - 0s 669us/step - loss: 0.0000e+00 - accuracy: 0.1964\n",
      "Epoch 136/300\n",
      "44/44 [==============================] - 0s 674us/step - loss: 0.0000e+00 - accuracy: 0.2124\n",
      "Epoch 137/300\n",
      "44/44 [==============================] - 0s 673us/step - loss: 0.0000e+00 - accuracy: 0.2188\n",
      "Epoch 138/300\n",
      "44/44 [==============================] - 0s 661us/step - loss: 0.0000e+00 - accuracy: 0.1884\n",
      "Epoch 139/300\n",
      "44/44 [==============================] - 0s 666us/step - loss: 0.0000e+00 - accuracy: 0.2080\n",
      "Epoch 140/300\n",
      "44/44 [==============================] - 0s 655us/step - loss: 0.0000e+00 - accuracy: 0.1998\n",
      "Epoch 141/300\n",
      "44/44 [==============================] - 0s 673us/step - loss: 0.0000e+00 - accuracy: 0.1939\n",
      "Epoch 142/300\n",
      "44/44 [==============================] - 0s 650us/step - loss: 0.0000e+00 - accuracy: 0.2058\n",
      "Epoch 143/300\n",
      "44/44 [==============================] - 0s 677us/step - loss: 0.0000e+00 - accuracy: 0.2061\n",
      "Epoch 144/300\n",
      "44/44 [==============================] - 0s 685us/step - loss: 0.0000e+00 - accuracy: 0.2039\n",
      "Epoch 145/300\n",
      "44/44 [==============================] - 0s 655us/step - loss: 0.0000e+00 - accuracy: 0.2094\n",
      "Epoch 146/300\n",
      "44/44 [==============================] - 0s 666us/step - loss: 0.0000e+00 - accuracy: 0.2077\n",
      "Epoch 147/300\n",
      "44/44 [==============================] - 0s 685us/step - loss: 0.0000e+00 - accuracy: 0.2065\n",
      "Epoch 148/300\n",
      "44/44 [==============================] - 0s 673us/step - loss: 0.0000e+00 - accuracy: 0.1994\n",
      "Epoch 149/300\n",
      "44/44 [==============================] - 0s 676us/step - loss: 0.0000e+00 - accuracy: 0.1882\n",
      "Epoch 150/300\n",
      "44/44 [==============================] - 0s 671us/step - loss: 0.0000e+00 - accuracy: 0.2120\n",
      "Epoch 151/300\n",
      "44/44 [==============================] - 0s 678us/step - loss: 0.0000e+00 - accuracy: 0.2282\n",
      "Epoch 152/300\n",
      "44/44 [==============================] - 0s 651us/step - loss: 0.0000e+00 - accuracy: 0.2117\n",
      "Epoch 153/300\n",
      "44/44 [==============================] - 0s 681us/step - loss: 0.0000e+00 - accuracy: 0.1986\n",
      "Epoch 154/300\n"
     ]
    },
    {
     "name": "stdout",
     "output_type": "stream",
     "text": [
      "44/44 [==============================] - 0s 649us/step - loss: 0.0000e+00 - accuracy: 0.2170\n",
      "Epoch 155/300\n",
      "44/44 [==============================] - 0s 682us/step - loss: 0.0000e+00 - accuracy: 0.2119\n",
      "Epoch 156/300\n",
      "44/44 [==============================] - 0s 667us/step - loss: 0.0000e+00 - accuracy: 0.2087\n",
      "Epoch 157/300\n",
      "44/44 [==============================] - 0s 676us/step - loss: 0.0000e+00 - accuracy: 0.2144\n",
      "Epoch 158/300\n",
      "44/44 [==============================] - 0s 675us/step - loss: 0.0000e+00 - accuracy: 0.2086\n",
      "Epoch 159/300\n",
      "44/44 [==============================] - 0s 662us/step - loss: 0.0000e+00 - accuracy: 0.2139\n",
      "Epoch 160/300\n",
      "44/44 [==============================] - 0s 656us/step - loss: 0.0000e+00 - accuracy: 0.2283\n",
      "Epoch 161/300\n",
      "44/44 [==============================] - 0s 670us/step - loss: 0.0000e+00 - accuracy: 0.2198\n",
      "Epoch 162/300\n",
      "44/44 [==============================] - 0s 666us/step - loss: 0.0000e+00 - accuracy: 0.1898\n",
      "Epoch 163/300\n",
      "44/44 [==============================] - 0s 705us/step - loss: 0.0000e+00 - accuracy: 0.2000\n",
      "Epoch 164/300\n",
      "44/44 [==============================] - 0s 691us/step - loss: 0.0000e+00 - accuracy: 0.2144\n",
      "Epoch 165/300\n",
      "44/44 [==============================] - 0s 664us/step - loss: 0.0000e+00 - accuracy: 0.1978\n",
      "Epoch 166/300\n",
      "44/44 [==============================] - 0s 676us/step - loss: 0.0000e+00 - accuracy: 0.2002\n",
      "Epoch 167/300\n",
      "44/44 [==============================] - 0s 671us/step - loss: 0.0000e+00 - accuracy: 0.2069\n",
      "Epoch 168/300\n",
      "44/44 [==============================] - 0s 657us/step - loss: 0.0000e+00 - accuracy: 0.2171\n",
      "Epoch 169/300\n",
      "44/44 [==============================] - 0s 668us/step - loss: 0.0000e+00 - accuracy: 0.2051\n",
      "Epoch 170/300\n",
      "44/44 [==============================] - 0s 649us/step - loss: 0.0000e+00 - accuracy: 0.2016\n",
      "Epoch 171/300\n",
      "44/44 [==============================] - 0s 663us/step - loss: 0.0000e+00 - accuracy: 0.1912\n",
      "Epoch 172/300\n",
      "44/44 [==============================] - 0s 674us/step - loss: 0.0000e+00 - accuracy: 0.2089\n",
      "Epoch 173/300\n",
      "44/44 [==============================] - 0s 649us/step - loss: 0.0000e+00 - accuracy: 0.2076\n",
      "Epoch 174/300\n",
      "44/44 [==============================] - 0s 665us/step - loss: 0.0000e+00 - accuracy: 0.1921\n",
      "Epoch 175/300\n",
      "44/44 [==============================] - 0s 674us/step - loss: 0.0000e+00 - accuracy: 0.2018\n",
      "Epoch 176/300\n",
      "44/44 [==============================] - 0s 676us/step - loss: 0.0000e+00 - accuracy: 0.2121\n",
      "Epoch 177/300\n",
      "44/44 [==============================] - 0s 670us/step - loss: 0.0000e+00 - accuracy: 0.2185\n",
      "Epoch 178/300\n",
      "44/44 [==============================] - 0s 687us/step - loss: 0.0000e+00 - accuracy: 0.2032\n",
      "Epoch 179/300\n",
      "44/44 [==============================] - 0s 671us/step - loss: 0.0000e+00 - accuracy: 0.2002\n",
      "Epoch 180/300\n",
      "44/44 [==============================] - 0s 680us/step - loss: 0.0000e+00 - accuracy: 0.2033\n",
      "Epoch 181/300\n",
      "44/44 [==============================] - 0s 671us/step - loss: 0.0000e+00 - accuracy: 0.2065\n",
      "Epoch 182/300\n",
      "44/44 [==============================] - 0s 667us/step - loss: 0.0000e+00 - accuracy: 0.2107\n",
      "Epoch 183/300\n",
      "44/44 [==============================] - 0s 673us/step - loss: 0.0000e+00 - accuracy: 0.2152\n",
      "Epoch 184/300\n",
      "44/44 [==============================] - 0s 670us/step - loss: 0.0000e+00 - accuracy: 0.2078\n",
      "Epoch 185/300\n",
      "44/44 [==============================] - 0s 668us/step - loss: 0.0000e+00 - accuracy: 0.2291\n",
      "Epoch 186/300\n",
      "44/44 [==============================] - 0s 673us/step - loss: 0.0000e+00 - accuracy: 0.2022\n",
      "Epoch 187/300\n",
      "44/44 [==============================] - 0s 650us/step - loss: 0.0000e+00 - accuracy: 0.2103\n",
      "Epoch 188/300\n",
      "44/44 [==============================] - 0s 680us/step - loss: 0.0000e+00 - accuracy: 0.2206\n",
      "Epoch 189/300\n",
      "44/44 [==============================] - 0s 680us/step - loss: 0.0000e+00 - accuracy: 0.2072\n",
      "Epoch 190/300\n",
      "44/44 [==============================] - 0s 679us/step - loss: 0.0000e+00 - accuracy: 0.1986\n",
      "Epoch 191/300\n",
      "44/44 [==============================] - 0s 672us/step - loss: 0.0000e+00 - accuracy: 0.2134\n",
      "Epoch 192/300\n",
      "44/44 [==============================] - 0s 676us/step - loss: 0.0000e+00 - accuracy: 0.2044\n",
      "Epoch 193/300\n",
      "44/44 [==============================] - 0s 676us/step - loss: 0.0000e+00 - accuracy: 0.1984\n",
      "Epoch 194/300\n",
      "44/44 [==============================] - 0s 663us/step - loss: 0.0000e+00 - accuracy: 0.2078\n",
      "Epoch 195/300\n",
      "44/44 [==============================] - 0s 676us/step - loss: 0.0000e+00 - accuracy: 0.2119\n",
      "Epoch 196/300\n",
      "44/44 [==============================] - 0s 678us/step - loss: 0.0000e+00 - accuracy: 0.2040\n",
      "Epoch 197/300\n",
      "44/44 [==============================] - 0s 684us/step - loss: 0.0000e+00 - accuracy: 0.2053\n",
      "Epoch 198/300\n",
      "44/44 [==============================] - 0s 673us/step - loss: 0.0000e+00 - accuracy: 0.2076\n",
      "Epoch 199/300\n",
      "44/44 [==============================] - 0s 665us/step - loss: 0.0000e+00 - accuracy: 0.2164\n",
      "Epoch 200/300\n",
      "44/44 [==============================] - 0s 674us/step - loss: 0.0000e+00 - accuracy: 0.2045\n",
      "Epoch 201/300\n",
      "44/44 [==============================] - 0s 684us/step - loss: 0.0000e+00 - accuracy: 0.1982\n",
      "Epoch 202/300\n",
      "44/44 [==============================] - 0s 681us/step - loss: 0.0000e+00 - accuracy: 0.2007\n",
      "Epoch 203/300\n",
      "44/44 [==============================] - 0s 652us/step - loss: 0.0000e+00 - accuracy: 0.2034\n",
      "Epoch 204/300\n",
      "44/44 [==============================] - 0s 672us/step - loss: 0.0000e+00 - accuracy: 0.2140\n",
      "Epoch 205/300\n",
      "44/44 [==============================] - 0s 670us/step - loss: 0.0000e+00 - accuracy: 0.2036\n",
      "Epoch 206/300\n",
      "44/44 [==============================] - 0s 673us/step - loss: 0.0000e+00 - accuracy: 0.2057\n",
      "Epoch 207/300\n",
      "44/44 [==============================] - 0s 675us/step - loss: 0.0000e+00 - accuracy: 0.2023\n",
      "Epoch 208/300\n",
      "44/44 [==============================] - 0s 670us/step - loss: 0.0000e+00 - accuracy: 0.1988\n",
      "Epoch 209/300\n",
      "44/44 [==============================] - 0s 682us/step - loss: 0.0000e+00 - accuracy: 0.2184\n",
      "Epoch 210/300\n",
      "44/44 [==============================] - 0s 663us/step - loss: 0.0000e+00 - accuracy: 0.2024\n",
      "Epoch 211/300\n",
      "44/44 [==============================] - 0s 654us/step - loss: 0.0000e+00 - accuracy: 0.1948\n",
      "Epoch 212/300\n",
      "44/44 [==============================] - 0s 705us/step - loss: 0.0000e+00 - accuracy: 0.1865\n",
      "Epoch 213/300\n",
      "44/44 [==============================] - 0s 665us/step - loss: 0.0000e+00 - accuracy: 0.2115\n",
      "Epoch 214/300\n",
      "44/44 [==============================] - 0s 680us/step - loss: 0.0000e+00 - accuracy: 0.2111\n",
      "Epoch 215/300\n",
      "44/44 [==============================] - 0s 687us/step - loss: 0.0000e+00 - accuracy: 0.2212\n",
      "Epoch 216/300\n",
      "44/44 [==============================] - 0s 677us/step - loss: 0.0000e+00 - accuracy: 0.2249\n",
      "Epoch 217/300\n",
      "44/44 [==============================] - 0s 675us/step - loss: 0.0000e+00 - accuracy: 0.2003\n",
      "Epoch 218/300\n",
      "44/44 [==============================] - 0s 660us/step - loss: 0.0000e+00 - accuracy: 0.2245\n",
      "Epoch 219/300\n",
      "44/44 [==============================] - 0s 656us/step - loss: 0.0000e+00 - accuracy: 0.1879\n",
      "Epoch 220/300\n",
      "44/44 [==============================] - 0s 684us/step - loss: 0.0000e+00 - accuracy: 0.2026\n",
      "Epoch 221/300\n",
      "44/44 [==============================] - 0s 686us/step - loss: 0.0000e+00 - accuracy: 0.1991\n",
      "Epoch 222/300\n",
      "44/44 [==============================] - 0s 687us/step - loss: 0.0000e+00 - accuracy: 0.1907\n",
      "Epoch 223/300\n",
      "44/44 [==============================] - 0s 676us/step - loss: 0.0000e+00 - accuracy: 0.2145\n",
      "Epoch 224/300\n",
      "44/44 [==============================] - 0s 681us/step - loss: 0.0000e+00 - accuracy: 0.2141\n",
      "Epoch 225/300\n",
      "44/44 [==============================] - 0s 651us/step - loss: 0.0000e+00 - accuracy: 0.2065\n",
      "Epoch 226/300\n",
      "44/44 [==============================] - 0s 685us/step - loss: 0.0000e+00 - accuracy: 0.2114\n",
      "Epoch 227/300\n",
      "44/44 [==============================] - 0s 665us/step - loss: 0.0000e+00 - accuracy: 0.2004\n",
      "Epoch 228/300\n",
      "44/44 [==============================] - 0s 667us/step - loss: 0.0000e+00 - accuracy: 0.2127\n",
      "Epoch 229/300\n",
      "44/44 [==============================] - 0s 683us/step - loss: 0.0000e+00 - accuracy: 0.2151\n",
      "Epoch 230/300\n",
      "44/44 [==============================] - 0s 688us/step - loss: 0.0000e+00 - accuracy: 0.2113\n",
      "Epoch 231/300\n",
      "44/44 [==============================] - 0s 677us/step - loss: 0.0000e+00 - accuracy: 0.2179\n",
      "Epoch 232/300\n",
      "44/44 [==============================] - 0s 668us/step - loss: 0.0000e+00 - accuracy: 0.2011\n",
      "Epoch 233/300\n",
      "44/44 [==============================] - 0s 657us/step - loss: 0.0000e+00 - accuracy: 0.1879\n",
      "Epoch 234/300\n",
      "44/44 [==============================] - 0s 670us/step - loss: 0.0000e+00 - accuracy: 0.2130\n",
      "Epoch 235/300\n",
      "44/44 [==============================] - 0s 655us/step - loss: 0.0000e+00 - accuracy: 0.2256\n",
      "Epoch 236/300\n",
      "44/44 [==============================] - 0s 670us/step - loss: 0.0000e+00 - accuracy: 0.2201\n",
      "Epoch 237/300\n",
      "44/44 [==============================] - 0s 673us/step - loss: 0.0000e+00 - accuracy: 0.1962\n",
      "Epoch 238/300\n",
      "44/44 [==============================] - 0s 672us/step - loss: 0.0000e+00 - accuracy: 0.2077\n",
      "Epoch 239/300\n",
      "44/44 [==============================] - 0s 673us/step - loss: 0.0000e+00 - accuracy: 0.2116\n",
      "Epoch 240/300\n",
      "44/44 [==============================] - 0s 659us/step - loss: 0.0000e+00 - accuracy: 0.1896\n",
      "Epoch 241/300\n",
      "44/44 [==============================] - 0s 667us/step - loss: 0.0000e+00 - accuracy: 0.1998\n",
      "Epoch 242/300\n",
      "44/44 [==============================] - 0s 675us/step - loss: 0.0000e+00 - accuracy: 0.2179\n",
      "Epoch 243/300\n",
      "44/44 [==============================] - 0s 666us/step - loss: 0.0000e+00 - accuracy: 0.1999\n",
      "Epoch 244/300\n",
      "44/44 [==============================] - 0s 691us/step - loss: 0.0000e+00 - accuracy: 0.2132\n",
      "Epoch 245/300\n",
      "44/44 [==============================] - 0s 670us/step - loss: 0.0000e+00 - accuracy: 0.2208\n",
      "Epoch 246/300\n",
      "44/44 [==============================] - 0s 672us/step - loss: 0.0000e+00 - accuracy: 0.2072\n",
      "Epoch 247/300\n",
      "44/44 [==============================] - 0s 663us/step - loss: 0.0000e+00 - accuracy: 0.2125\n",
      "Epoch 248/300\n",
      "44/44 [==============================] - 0s 667us/step - loss: 0.0000e+00 - accuracy: 0.2034\n",
      "Epoch 249/300\n",
      "44/44 [==============================] - 0s 664us/step - loss: 0.0000e+00 - accuracy: 0.2125\n",
      "Epoch 250/300\n",
      "44/44 [==============================] - 0s 673us/step - loss: 0.0000e+00 - accuracy: 0.2015\n",
      "Epoch 251/300\n",
      "44/44 [==============================] - 0s 664us/step - loss: 0.0000e+00 - accuracy: 0.1973\n",
      "Epoch 252/300\n",
      "44/44 [==============================] - 0s 672us/step - loss: 0.0000e+00 - accuracy: 0.1905\n",
      "Epoch 253/300\n",
      "44/44 [==============================] - 0s 676us/step - loss: 0.0000e+00 - accuracy: 0.2143\n",
      "Epoch 254/300\n",
      "44/44 [==============================] - 0s 670us/step - loss: 0.0000e+00 - accuracy: 0.2115\n",
      "Epoch 255/300\n",
      "44/44 [==============================] - 0s 666us/step - loss: 0.0000e+00 - accuracy: 0.2213\n",
      "Epoch 256/300\n",
      "44/44 [==============================] - 0s 673us/step - loss: 0.0000e+00 - accuracy: 0.2003\n",
      "Epoch 257/300\n",
      "44/44 [==============================] - 0s 675us/step - loss: 0.0000e+00 - accuracy: 0.2061\n",
      "Epoch 258/300\n",
      "44/44 [==============================] - 0s 688us/step - loss: 0.0000e+00 - accuracy: 0.2123\n",
      "Epoch 259/300\n",
      "44/44 [==============================] - 0s 682us/step - loss: 0.0000e+00 - accuracy: 0.1956\n",
      "Epoch 260/300\n",
      "44/44 [==============================] - 0s 688us/step - loss: 0.0000e+00 - accuracy: 0.2027\n",
      "Epoch 261/300\n",
      "44/44 [==============================] - 0s 677us/step - loss: 0.0000e+00 - accuracy: 0.1975\n",
      "Epoch 262/300\n",
      "44/44 [==============================] - 0s 652us/step - loss: 0.0000e+00 - accuracy: 0.1988\n",
      "Epoch 263/300\n",
      "44/44 [==============================] - 0s 678us/step - loss: 0.0000e+00 - accuracy: 0.2208\n",
      "Epoch 264/300\n",
      "44/44 [==============================] - 0s 670us/step - loss: 0.0000e+00 - accuracy: 0.2106\n",
      "Epoch 265/300\n",
      "44/44 [==============================] - 0s 673us/step - loss: 0.0000e+00 - accuracy: 0.1904\n",
      "Epoch 266/300\n",
      "44/44 [==============================] - 0s 676us/step - loss: 0.0000e+00 - accuracy: 0.2034\n",
      "Epoch 267/300\n",
      "44/44 [==============================] - 0s 695us/step - loss: 0.0000e+00 - accuracy: 0.2014\n",
      "Epoch 268/300\n",
      "44/44 [==============================] - 0s 674us/step - loss: 0.0000e+00 - accuracy: 0.1932\n",
      "Epoch 269/300\n",
      "44/44 [==============================] - 0s 673us/step - loss: 0.0000e+00 - accuracy: 0.1968\n",
      "Epoch 270/300\n",
      "44/44 [==============================] - 0s 658us/step - loss: 0.0000e+00 - accuracy: 0.2011\n",
      "Epoch 271/300\n",
      "44/44 [==============================] - 0s 679us/step - loss: 0.0000e+00 - accuracy: 0.2098\n",
      "Epoch 272/300\n",
      "44/44 [==============================] - 0s 670us/step - loss: 0.0000e+00 - accuracy: 0.1907\n",
      "Epoch 273/300\n",
      "44/44 [==============================] - 0s 682us/step - loss: 0.0000e+00 - accuracy: 0.2094\n",
      "Epoch 274/300\n",
      "44/44 [==============================] - 0s 675us/step - loss: 0.0000e+00 - accuracy: 0.2013\n",
      "Epoch 275/300\n",
      "44/44 [==============================] - 0s 671us/step - loss: 0.0000e+00 - accuracy: 0.2072\n",
      "Epoch 276/300\n",
      "44/44 [==============================] - 0s 683us/step - loss: 0.0000e+00 - accuracy: 0.2131\n",
      "Epoch 277/300\n",
      "44/44 [==============================] - 0s 676us/step - loss: 0.0000e+00 - accuracy: 0.2225\n",
      "Epoch 278/300\n",
      "44/44 [==============================] - 0s 667us/step - loss: 0.0000e+00 - accuracy: 0.2278\n",
      "Epoch 279/300\n",
      "44/44 [==============================] - 0s 661us/step - loss: 0.0000e+00 - accuracy: 0.2101\n",
      "Epoch 280/300\n",
      "44/44 [==============================] - 0s 673us/step - loss: 0.0000e+00 - accuracy: 0.2087\n",
      "Epoch 281/300\n",
      "44/44 [==============================] - 0s 679us/step - loss: 0.0000e+00 - accuracy: 0.2255\n",
      "Epoch 282/300\n",
      "44/44 [==============================] - 0s 678us/step - loss: 0.0000e+00 - accuracy: 0.2183\n",
      "Epoch 283/300\n",
      "44/44 [==============================] - 0s 679us/step - loss: 0.0000e+00 - accuracy: 0.2144\n",
      "Epoch 284/300\n",
      "44/44 [==============================] - 0s 675us/step - loss: 0.0000e+00 - accuracy: 0.1925\n",
      "Epoch 285/300\n",
      "44/44 [==============================] - 0s 656us/step - loss: 0.0000e+00 - accuracy: 0.1924\n",
      "Epoch 286/300\n",
      "44/44 [==============================] - 0s 673us/step - loss: 0.0000e+00 - accuracy: 0.2128\n",
      "Epoch 287/300\n",
      "44/44 [==============================] - 0s 675us/step - loss: 0.0000e+00 - accuracy: 0.1921\n",
      "Epoch 288/300\n",
      "44/44 [==============================] - 0s 679us/step - loss: 0.0000e+00 - accuracy: 0.2024\n",
      "Epoch 289/300\n",
      "44/44 [==============================] - 0s 695us/step - loss: 0.0000e+00 - accuracy: 0.2072\n",
      "Epoch 290/300\n",
      "44/44 [==============================] - 0s 690us/step - loss: 0.0000e+00 - accuracy: 0.1969\n",
      "Epoch 291/300\n",
      "44/44 [==============================] - 0s 674us/step - loss: 0.0000e+00 - accuracy: 0.2114\n",
      "Epoch 292/300\n",
      "44/44 [==============================] - 0s 677us/step - loss: 0.0000e+00 - accuracy: 0.2191\n",
      "Epoch 293/300\n",
      "44/44 [==============================] - 0s 660us/step - loss: 0.0000e+00 - accuracy: 0.2053\n",
      "Epoch 294/300\n",
      "44/44 [==============================] - 0s 682us/step - loss: 0.0000e+00 - accuracy: 0.1950\n",
      "Epoch 295/300\n",
      "44/44 [==============================] - 0s 669us/step - loss: 0.0000e+00 - accuracy: 0.1855\n",
      "Epoch 296/300\n",
      "44/44 [==============================] - 0s 652us/step - loss: 0.0000e+00 - accuracy: 0.2189\n",
      "Epoch 297/300\n",
      "44/44 [==============================] - 0s 675us/step - loss: 0.0000e+00 - accuracy: 0.2113\n",
      "Epoch 298/300\n",
      "44/44 [==============================] - 0s 683us/step - loss: 0.0000e+00 - accuracy: 0.2032\n",
      "Epoch 299/300\n",
      "44/44 [==============================] - 0s 679us/step - loss: 0.0000e+00 - accuracy: 0.2073\n",
      "Epoch 300/300\n",
      "44/44 [==============================] - 0s 657us/step - loss: 0.0000e+00 - accuracy: 0.2096\n"
     ]
    },
    {
     "data": {
      "text/plain": [
       "<keras.callbacks.History at 0x7ff47e83a490>"
      ]
     },
     "execution_count": 27,
     "metadata": {},
     "output_type": "execute_result"
    }
   ],
   "source": [
    "model.fit(X_train, y_train, epochs=300, batch_size =30)"
   ]
  },
  {
   "cell_type": "code",
   "execution_count": 28,
   "metadata": {},
   "outputs": [],
   "source": [
    "Y_pred_nn = model.predict(X_test)"
   ]
  },
  {
   "cell_type": "code",
   "execution_count": 29,
   "metadata": {},
   "outputs": [
    {
     "name": "stdout",
     "output_type": "stream",
     "text": [
      "              precision    recall  f1-score   support\n",
      "\n",
      "         0.0       0.00      0.00      0.00        87\n",
      "         1.0       0.18      1.00      0.31        59\n",
      "         2.0       0.00      0.00      0.00       165\n",
      "         3.0       0.00      0.00      0.00        15\n",
      "\n",
      "    accuracy                           0.18       326\n",
      "   macro avg       0.05      0.25      0.08       326\n",
      "weighted avg       0.03      0.18      0.06       326\n",
      "\n"
     ]
    },
    {
     "name": "stderr",
     "output_type": "stream",
     "text": [
      "/Library/Frameworks/Python.framework/Versions/3.9/lib/python3.9/site-packages/sklearn/metrics/_classification.py:1248: UndefinedMetricWarning: Precision and F-score are ill-defined and being set to 0.0 in labels with no predicted samples. Use `zero_division` parameter to control this behavior.\n",
      "  _warn_prf(average, modifier, msg_start, len(result))\n",
      "/Library/Frameworks/Python.framework/Versions/3.9/lib/python3.9/site-packages/sklearn/metrics/_classification.py:1248: UndefinedMetricWarning: Precision and F-score are ill-defined and being set to 0.0 in labels with no predicted samples. Use `zero_division` parameter to control this behavior.\n",
      "  _warn_prf(average, modifier, msg_start, len(result))\n",
      "/Library/Frameworks/Python.framework/Versions/3.9/lib/python3.9/site-packages/sklearn/metrics/_classification.py:1248: UndefinedMetricWarning: Precision and F-score are ill-defined and being set to 0.0 in labels with no predicted samples. Use `zero_division` parameter to control this behavior.\n",
      "  _warn_prf(average, modifier, msg_start, len(result))\n"
     ]
    }
   ],
   "source": [
    "print(classification_report(y_test, Y_pred_nn))"
   ]
  },
  {
   "cell_type": "code",
   "execution_count": 30,
   "metadata": {},
   "outputs": [
    {
     "name": "stdout",
     "output_type": "stream",
     "text": [
      "Accuracy of logistic regression classifier on test set: 0.57\n"
     ]
    },
    {
     "name": "stderr",
     "output_type": "stream",
     "text": [
      "/Library/Frameworks/Python.framework/Versions/3.9/lib/python3.9/site-packages/sklearn/linear_model/_logistic.py:763: ConvergenceWarning: lbfgs failed to converge (status=1):\n",
      "STOP: TOTAL NO. of ITERATIONS REACHED LIMIT.\n",
      "\n",
      "Increase the number of iterations (max_iter) or scale the data as shown in:\n",
      "    https://scikit-learn.org/stable/modules/preprocessing.html\n",
      "Please also refer to the documentation for alternative solver options:\n",
      "    https://scikit-learn.org/stable/modules/linear_model.html#logistic-regression\n",
      "  n_iter_i = _check_optimize_result(\n"
     ]
    }
   ],
   "source": [
    "from sklearn.linear_model import LogisticRegression\n",
    "from matplotlib import pyplot\n",
    "logreg = LogisticRegression()\n",
    "logreg.fit(X_train, y_train)\n",
    "y_pred = logreg.predict(X_test)\n",
    "print('Accuracy of logistic regression classifier on test set: {:.2f}'.format(logreg.score(X_test, y_test)))"
   ]
  },
  {
   "cell_type": "code",
   "execution_count": 31,
   "metadata": {},
   "outputs": [
    {
     "name": "stdout",
     "output_type": "stream",
     "text": [
      "[[-0.00126441  0.02877246  0.04155231 -0.00477702]\n",
      " [ 0.03929077 -0.07427216 -0.05140218  0.00475261]\n",
      " [-0.02214167 -0.06403253 -0.07156688  0.01212402]\n",
      " [-0.01588469  0.10953224  0.08141675 -0.01209961]] [ 0.44621477 -0.59128975  0.56758723 -0.42251225]\n"
     ]
    }
   ],
   "source": [
    "print(logreg.coef_, logreg.intercept_)"
   ]
  },
  {
   "cell_type": "code",
   "execution_count": 32,
   "metadata": {},
   "outputs": [
    {
     "name": "stdout",
     "output_type": "stream",
     "text": [
      "Feature: 0, Score: -0.00126\n",
      "Feature: 1, Score: 0.02877\n",
      "Feature: 2, Score: 0.04155\n",
      "Feature: 3, Score: -0.00478\n",
      "[-0.00126441  0.02877246  0.04155231 -0.00477702]\n"
     ]
    },
    {
     "ename": "TypeError",
     "evalue": "unsupported operand type(s) for +: 'int' and 'NoneType'",
     "output_type": "error",
     "traceback": [
      "\u001b[0;31m---------------------------------------------------------------------------\u001b[0m",
      "\u001b[0;31mTypeError\u001b[0m                                 Traceback (most recent call last)",
      "\u001b[0;32m<ipython-input-32-a11bf0393550>\u001b[0m in \u001b[0;36m<module>\u001b[0;34m\u001b[0m\n\u001b[1;32m      4\u001b[0m         \u001b[0mprint\u001b[0m\u001b[0;34m(\u001b[0m\u001b[0;34m'Feature: %0d, Score: %.5f'\u001b[0m \u001b[0;34m%\u001b[0m \u001b[0;34m(\u001b[0m\u001b[0mi\u001b[0m\u001b[0;34m,\u001b[0m\u001b[0mv\u001b[0m\u001b[0;34m)\u001b[0m\u001b[0;34m)\u001b[0m\u001b[0;34m\u001b[0m\u001b[0;34m\u001b[0m\u001b[0m\n\u001b[1;32m      5\u001b[0m \u001b[0;31m# plot feature importance\u001b[0m\u001b[0;34m\u001b[0m\u001b[0;34m\u001b[0m\u001b[0;34m\u001b[0m\u001b[0m\n\u001b[0;32m----> 6\u001b[0;31m \u001b[0mpyplot\u001b[0m\u001b[0;34m.\u001b[0m\u001b[0mbar\u001b[0m\u001b[0;34m(\u001b[0m\u001b[0;34m[\u001b[0m\u001b[0mx\u001b[0m \u001b[0;32mfor\u001b[0m \u001b[0mx\u001b[0m \u001b[0;32min\u001b[0m \u001b[0mrange\u001b[0m\u001b[0;34m(\u001b[0m\u001b[0mlen\u001b[0m\u001b[0;34m(\u001b[0m\u001b[0mimportance\u001b[0m\u001b[0;34m)\u001b[0m\u001b[0;34m)\u001b[0m\u001b[0;34m]\u001b[0m\u001b[0;34m,\u001b[0m \u001b[0mprint\u001b[0m\u001b[0;34m(\u001b[0m\u001b[0mimportance\u001b[0m\u001b[0;34m)\u001b[0m\u001b[0;34m)\u001b[0m\u001b[0;34m\u001b[0m\u001b[0;34m\u001b[0m\u001b[0m\n\u001b[0m\u001b[1;32m      7\u001b[0m \u001b[0mpyplot\u001b[0m\u001b[0;34m.\u001b[0m\u001b[0mshow\u001b[0m\u001b[0;34m(\u001b[0m\u001b[0;34m)\u001b[0m\u001b[0;34m\u001b[0m\u001b[0;34m\u001b[0m\u001b[0m\n",
      "\u001b[0;32m/Library/Frameworks/Python.framework/Versions/3.9/lib/python3.9/site-packages/matplotlib/pyplot.py\u001b[0m in \u001b[0;36mbar\u001b[0;34m(x, height, width, bottom, align, data, **kwargs)\u001b[0m\n\u001b[1;32m   2485\u001b[0m         \u001b[0mx\u001b[0m\u001b[0;34m,\u001b[0m \u001b[0mheight\u001b[0m\u001b[0;34m,\u001b[0m \u001b[0mwidth\u001b[0m\u001b[0;34m=\u001b[0m\u001b[0;36m0.8\u001b[0m\u001b[0;34m,\u001b[0m \u001b[0mbottom\u001b[0m\u001b[0;34m=\u001b[0m\u001b[0;32mNone\u001b[0m\u001b[0;34m,\u001b[0m \u001b[0;34m*\u001b[0m\u001b[0;34m,\u001b[0m \u001b[0malign\u001b[0m\u001b[0;34m=\u001b[0m\u001b[0;34m'center'\u001b[0m\u001b[0;34m,\u001b[0m\u001b[0;34m\u001b[0m\u001b[0;34m\u001b[0m\u001b[0m\n\u001b[1;32m   2486\u001b[0m         data=None, **kwargs):\n\u001b[0;32m-> 2487\u001b[0;31m     return gca().bar(\n\u001b[0m\u001b[1;32m   2488\u001b[0m         \u001b[0mx\u001b[0m\u001b[0;34m,\u001b[0m \u001b[0mheight\u001b[0m\u001b[0;34m,\u001b[0m \u001b[0mwidth\u001b[0m\u001b[0;34m=\u001b[0m\u001b[0mwidth\u001b[0m\u001b[0;34m,\u001b[0m \u001b[0mbottom\u001b[0m\u001b[0;34m=\u001b[0m\u001b[0mbottom\u001b[0m\u001b[0;34m,\u001b[0m \u001b[0malign\u001b[0m\u001b[0;34m=\u001b[0m\u001b[0malign\u001b[0m\u001b[0;34m,\u001b[0m\u001b[0;34m\u001b[0m\u001b[0;34m\u001b[0m\u001b[0m\n\u001b[1;32m   2489\u001b[0m         **({\"data\": data} if data is not None else {}), **kwargs)\n",
      "\u001b[0;32m/Library/Frameworks/Python.framework/Versions/3.9/lib/python3.9/site-packages/matplotlib/__init__.py\u001b[0m in \u001b[0;36minner\u001b[0;34m(ax, data, *args, **kwargs)\u001b[0m\n\u001b[1;32m   1436\u001b[0m     \u001b[0;32mdef\u001b[0m \u001b[0minner\u001b[0m\u001b[0;34m(\u001b[0m\u001b[0max\u001b[0m\u001b[0;34m,\u001b[0m \u001b[0;34m*\u001b[0m\u001b[0margs\u001b[0m\u001b[0;34m,\u001b[0m \u001b[0mdata\u001b[0m\u001b[0;34m=\u001b[0m\u001b[0;32mNone\u001b[0m\u001b[0;34m,\u001b[0m \u001b[0;34m**\u001b[0m\u001b[0mkwargs\u001b[0m\u001b[0;34m)\u001b[0m\u001b[0;34m:\u001b[0m\u001b[0;34m\u001b[0m\u001b[0;34m\u001b[0m\u001b[0m\n\u001b[1;32m   1437\u001b[0m         \u001b[0;32mif\u001b[0m \u001b[0mdata\u001b[0m \u001b[0;32mis\u001b[0m \u001b[0;32mNone\u001b[0m\u001b[0;34m:\u001b[0m\u001b[0;34m\u001b[0m\u001b[0;34m\u001b[0m\u001b[0m\n\u001b[0;32m-> 1438\u001b[0;31m             \u001b[0;32mreturn\u001b[0m \u001b[0mfunc\u001b[0m\u001b[0;34m(\u001b[0m\u001b[0max\u001b[0m\u001b[0;34m,\u001b[0m \u001b[0;34m*\u001b[0m\u001b[0mmap\u001b[0m\u001b[0;34m(\u001b[0m\u001b[0msanitize_sequence\u001b[0m\u001b[0;34m,\u001b[0m \u001b[0margs\u001b[0m\u001b[0;34m)\u001b[0m\u001b[0;34m,\u001b[0m \u001b[0;34m**\u001b[0m\u001b[0mkwargs\u001b[0m\u001b[0;34m)\u001b[0m\u001b[0;34m\u001b[0m\u001b[0;34m\u001b[0m\u001b[0m\n\u001b[0m\u001b[1;32m   1439\u001b[0m \u001b[0;34m\u001b[0m\u001b[0m\n\u001b[1;32m   1440\u001b[0m         \u001b[0mbound\u001b[0m \u001b[0;34m=\u001b[0m \u001b[0mnew_sig\u001b[0m\u001b[0;34m.\u001b[0m\u001b[0mbind\u001b[0m\u001b[0;34m(\u001b[0m\u001b[0max\u001b[0m\u001b[0;34m,\u001b[0m \u001b[0;34m*\u001b[0m\u001b[0margs\u001b[0m\u001b[0;34m,\u001b[0m \u001b[0;34m**\u001b[0m\u001b[0mkwargs\u001b[0m\u001b[0;34m)\u001b[0m\u001b[0;34m\u001b[0m\u001b[0;34m\u001b[0m\u001b[0m\n",
      "\u001b[0;32m/Library/Frameworks/Python.framework/Versions/3.9/lib/python3.9/site-packages/matplotlib/axes/_axes.py\u001b[0m in \u001b[0;36mbar\u001b[0;34m(self, x, height, width, bottom, align, **kwargs)\u001b[0m\n\u001b[1;32m   2479\u001b[0m         \u001b[0margs\u001b[0m \u001b[0;34m=\u001b[0m \u001b[0mzip\u001b[0m\u001b[0;34m(\u001b[0m\u001b[0mleft\u001b[0m\u001b[0;34m,\u001b[0m \u001b[0mbottom\u001b[0m\u001b[0;34m,\u001b[0m \u001b[0mwidth\u001b[0m\u001b[0;34m,\u001b[0m \u001b[0mheight\u001b[0m\u001b[0;34m,\u001b[0m \u001b[0mcolor\u001b[0m\u001b[0;34m,\u001b[0m \u001b[0medgecolor\u001b[0m\u001b[0;34m,\u001b[0m \u001b[0mlinewidth\u001b[0m\u001b[0;34m)\u001b[0m\u001b[0;34m\u001b[0m\u001b[0;34m\u001b[0m\u001b[0m\n\u001b[1;32m   2480\u001b[0m         \u001b[0;32mfor\u001b[0m \u001b[0ml\u001b[0m\u001b[0;34m,\u001b[0m \u001b[0mb\u001b[0m\u001b[0;34m,\u001b[0m \u001b[0mw\u001b[0m\u001b[0;34m,\u001b[0m \u001b[0mh\u001b[0m\u001b[0;34m,\u001b[0m \u001b[0mc\u001b[0m\u001b[0;34m,\u001b[0m \u001b[0me\u001b[0m\u001b[0;34m,\u001b[0m \u001b[0mlw\u001b[0m \u001b[0;32min\u001b[0m \u001b[0margs\u001b[0m\u001b[0;34m:\u001b[0m\u001b[0;34m\u001b[0m\u001b[0;34m\u001b[0m\u001b[0m\n\u001b[0;32m-> 2481\u001b[0;31m             r = mpatches.Rectangle(\n\u001b[0m\u001b[1;32m   2482\u001b[0m                 \u001b[0mxy\u001b[0m\u001b[0;34m=\u001b[0m\u001b[0;34m(\u001b[0m\u001b[0ml\u001b[0m\u001b[0;34m,\u001b[0m \u001b[0mb\u001b[0m\u001b[0;34m)\u001b[0m\u001b[0;34m,\u001b[0m \u001b[0mwidth\u001b[0m\u001b[0;34m=\u001b[0m\u001b[0mw\u001b[0m\u001b[0;34m,\u001b[0m \u001b[0mheight\u001b[0m\u001b[0;34m=\u001b[0m\u001b[0mh\u001b[0m\u001b[0;34m,\u001b[0m\u001b[0;34m\u001b[0m\u001b[0;34m\u001b[0m\u001b[0m\n\u001b[1;32m   2483\u001b[0m                 \u001b[0mfacecolor\u001b[0m\u001b[0;34m=\u001b[0m\u001b[0mc\u001b[0m\u001b[0;34m,\u001b[0m\u001b[0;34m\u001b[0m\u001b[0;34m\u001b[0m\u001b[0m\n",
      "\u001b[0;32m/Library/Frameworks/Python.framework/Versions/3.9/lib/python3.9/site-packages/matplotlib/patches.py\u001b[0m in \u001b[0;36m__init__\u001b[0;34m(self, xy, width, height, angle, **kwargs)\u001b[0m\n\u001b[1;32m    749\u001b[0m \u001b[0;34m\u001b[0m\u001b[0m\n\u001b[1;32m    750\u001b[0m         \u001b[0mself\u001b[0m\u001b[0;34m.\u001b[0m\u001b[0m_x1\u001b[0m \u001b[0;34m=\u001b[0m \u001b[0mself\u001b[0m\u001b[0;34m.\u001b[0m\u001b[0m_x0\u001b[0m \u001b[0;34m+\u001b[0m \u001b[0mself\u001b[0m\u001b[0;34m.\u001b[0m\u001b[0m_width\u001b[0m\u001b[0;34m\u001b[0m\u001b[0;34m\u001b[0m\u001b[0m\n\u001b[0;32m--> 751\u001b[0;31m         \u001b[0mself\u001b[0m\u001b[0;34m.\u001b[0m\u001b[0m_y1\u001b[0m \u001b[0;34m=\u001b[0m \u001b[0mself\u001b[0m\u001b[0;34m.\u001b[0m\u001b[0m_y0\u001b[0m \u001b[0;34m+\u001b[0m \u001b[0mself\u001b[0m\u001b[0;34m.\u001b[0m\u001b[0m_height\u001b[0m\u001b[0;34m\u001b[0m\u001b[0;34m\u001b[0m\u001b[0m\n\u001b[0m\u001b[1;32m    752\u001b[0m \u001b[0;34m\u001b[0m\u001b[0m\n\u001b[1;32m    753\u001b[0m         \u001b[0mself\u001b[0m\u001b[0;34m.\u001b[0m\u001b[0mangle\u001b[0m \u001b[0;34m=\u001b[0m \u001b[0mfloat\u001b[0m\u001b[0;34m(\u001b[0m\u001b[0mangle\u001b[0m\u001b[0;34m)\u001b[0m\u001b[0;34m\u001b[0m\u001b[0;34m\u001b[0m\u001b[0m\n",
      "\u001b[0;31mTypeError\u001b[0m: unsupported operand type(s) for +: 'int' and 'NoneType'"
     ]
    },
    {
     "data": {
      "image/png": "[encoded data removed]",
      "text/plain": [
       "<Figure size 432x288 with 1 Axes>"
      ]
     },
     "metadata": {
      "needs_background": "light"
     },
     "output_type": "display_data"
    }
   ],
   "source": [
    "importance = logreg.coef_[0]\n",
    "# summarize feature importance\n",
    "for i,v in enumerate(importance):\n",
    "\tprint('Feature: %0d, Score: %.5f' % (i,v))\n",
    "# plot feature importance\n",
    "pyplot.bar([x for x in range(len(importance))], print(importance))\n",
    "pyplot.show()"
   ]
  },
  {
   "cell_type": "code",
   "execution_count": null,
   "metadata": {},
   "outputs": [],
   "source": []
  },
  {
   "cell_type": "code",
   "execution_count": null,
   "metadata": {},
   "outputs": [],
   "source": [
    "print(classification_report(y_test, y_pred))"
   ]
  },
  {
   "cell_type": "code",
   "execution_count": null,
   "metadata": {},
   "outputs": [],
   "source": [
    "#Nuh add in this one!!!!!!\n",
    "#This just maps all the crime to the prices\n",
    "plt.scatter(new_df['prices'], new_df['total crime'])\n",
    "plt.xlabel('Prices')\n",
    "plt.ylabel('All Crimes')\n",
    "plt.show"
   ]
  },
  {
   "cell_type": "code",
   "execution_count": null,
   "metadata": {},
   "outputs": [],
   "source": [
    "plt.scatter(new_df['prices'], new_df['total crime'])\n",
    "plt.xlabel('Prices')\n",
    "plt.ylabel('violent crime')\n",
    "plt.show"
   ]
  },
  {
   "cell_type": "code",
   "execution_count": null,
   "metadata": {},
   "outputs": [],
   "source": [
    "plt.scatter(new_df['prices'], new_df['total crime'])\n",
    "plt.xlabel('Prices')\n",
    "plt.ylabel('drug crime')\n",
    "plt.show"
   ]
  },
  {
   "cell_type": "code",
   "execution_count": null,
   "metadata": {},
   "outputs": [],
   "source": [
    "plt.scatter(new_df['prices'], new_df['total crime'])\n",
    "plt.xlabel('Prices')\n",
    "plt.ylabel('housing crime')\n",
    "plt.show"
   ]
  },
  {
   "cell_type": "code",
   "execution_count": null,
   "metadata": {},
   "outputs": [],
   "source": [
    "new_df.head()"
   ]
  },
  {
   "cell_type": "code",
   "execution_count": null,
   "metadata": {},
   "outputs": [],
   "source": [
    "new_df = pd.read_csv('new_merged_data.csv')"
   ]
  },
  {
   "cell_type": "code",
   "execution_count": null,
   "metadata": {},
   "outputs": [],
   "source": [
    "average_price = new_df.loc[new_df['price classified'] == 'medium']"
   ]
  },
  {
   "cell_type": "code",
   "execution_count": null,
   "metadata": {},
   "outputs": [],
   "source": [
    "x = new_df[['prices', 'total crime']]"
   ]
  },
  {
   "cell_type": "code",
   "execution_count": null,
   "metadata": {},
   "outputs": [],
   "source": [
    "x['prices'].max()"
   ]
  },
  {
   "cell_type": "code",
   "execution_count": null,
   "metadata": {},
   "outputs": [],
   "source": [
    "kmeans = KMeans(4)\n",
    "kmeans.fit(x)"
   ]
  },
  {
   "cell_type": "code",
   "execution_count": null,
   "metadata": {},
   "outputs": [],
   "source": [
    "clusters=x.copy()\n",
    "clusters['clusters_pred']=kmeans.fit_predict(x)"
   ]
  },
  {
   "cell_type": "code",
   "execution_count": null,
   "metadata": {},
   "outputs": [],
   "source": [
    "plt.scatter(clusters['prices'], clusters['total crime'], c=clusters['clusters_pred'], cmap='rainbow')\n",
    "plt.xlabel('prices')\n",
    "plt.ylabel('total crime')\n",
    "plt.show()"
   ]
  },
  {
   "cell_type": "code",
   "execution_count": null,
   "metadata": {},
   "outputs": [],
   "source": []
  },
  {
   "cell_type": "code",
   "execution_count": null,
   "metadata": {},
   "outputs": [],
   "source": []
  },
  {
   "cell_type": "code",
   "execution_count": null,
   "metadata": {},
   "outputs": [],
   "source": []
  },
  {
   "cell_type": "code",
   "execution_count": null,
   "metadata": {},
   "outputs": [],
   "source": []
  }
 ],
 "metadata": {
  "kernelspec": {
   "display_name": "Python 3",
   "language": "python",
   "name": "python3"
  },
  "language_info": {
   "codemirror_mode": {
    "name": "ipython",
    "version": 3
   },
   "file_extension": ".py",
   "mimetype": "text/x-python",
   "name": "python",
   "nbconvert_exporter": "python",
   "pygments_lexer": "ipython3",
   "version": "3.9.0"
  }
 },
 "nbformat": 4,
 "nbformat_minor": 4
}
